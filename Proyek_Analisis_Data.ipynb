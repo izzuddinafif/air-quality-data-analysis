{
 "cells": [
  {
   "cell_type": "markdown",
   "metadata": {
    "id": "H9wADwK78DCz"
   },
   "source": [
    "# Proyek Analisis Data: Air-quality-dataset\n",
    "- **Nama:** Izzuddin Ahmad Afif\n",
    "- **Email:** izzuddinafif@gmail.com\n",
    "- **ID Dicoding:** izzuddinafif"
   ]
  },
  {
   "cell_type": "markdown",
   "metadata": {
    "id": "eE0raob58DC0"
   },
   "source": [
    "## Menentukan Pertanyaan Bisnis"
   ]
  },
  {
   "cell_type": "markdown",
   "metadata": {
    "id": "GmQeQ5YF8DC0"
   },
   "source": [
    "\n",
    "## Menentukan Pertanyaan Bisnis\n",
    "\n",
    "- Bagaimana tren perubahan konsentrasi PM2.5 di masing-masing stasiun selama periode tertentu, dan faktor apa yang memengaruhinya?\n",
    "- Faktor lingkungan atau aktivitas manusia apa yang memiliki korelasi signifikan dengan perbedaan kualitas udara antar stasiun?\n"
   ]
  },
  {
   "cell_type": "markdown",
   "metadata": {
    "id": "H-z4QGlO8DC1"
   },
   "source": [
    "## Import Semua Packages/Library yang Digunakan"
   ]
  },
  {
   "cell_type": "code",
   "execution_count": null,
   "metadata": {
    "id": "FVYwaObI8DC1"
   },
   "outputs": [],
   "source": [
    "import pandas as pd\n",
    "import numpy as np\n",
    "import matplotlib.pyplot as plt\n",
    "import seaborn as sns\n",
    "import os\n",
    "import glob\n",
    "\n",
    "# Atur gaya plot secara default\n",
    "plt.style.use('default')\n"
   ]
  },
  {
   "cell_type": "markdown",
   "metadata": {
    "id": "h_Sh51Xy8DC1"
   },
   "source": [
    "## Data Wrangling"
   ]
  },
  {
   "cell_type": "markdown",
   "metadata": {
    "id": "sXU2GBYu8DC1"
   },
   "source": [
    "### Gathering Data"
   ]
  },
  {
   "cell_type": "code",
   "execution_count": null,
   "metadata": {
    "id": "zjCBk1BI8DC1"
   },
   "outputs": [],
   "source": [
    "# Load semua file CSV dalam folder 'csv'\n",
    "folder_path = 'csv'\n",
    "csv_files = glob.glob(os.path.join(folder_path, '*.csv'))\n",
    "\n",
    "# Dictionary untuk menampung data tiap stasiun\n",
    "station_dataframes = {}\n",
    "\n",
    "# Memuat data dari setiap file CSV\n",
    "for file in csv_files:\n",
    "    base_name = os.path.basename(file)\n",
    "    parts = base_name.split('_')\n",
    "    if len(parts) > 3:\n",
    "        station = parts[2]  # Nama stasiun\n",
    "        df = pd.read_csv(file)\n",
    "        station_dataframes[station] = df\n",
    "\n",
    "# Tampilkan contoh data (hanya menampilkan 5 baris) dari satu stasiun sebagai sample\n",
    "sample_station = list(station_dataframes.keys())[0] if station_dataframes else None\n",
    "if sample_station:\n",
    "    print(f\"Data awal untuk stasiun {sample_station}:\")\n",
    "    display(station_dataframes[sample_station].head())\n",
    "else:\n",
    "    print(\"Tidak ditemukan file CSV dalam folder.\")\n"
   ]
  },
  {
   "cell_type": "markdown",
   "metadata": {
    "id": "MMi6xGaDkbCi"
   },
   "source": [
    "**Insight:**\n",
    "- Semua file CSV memiliki struktur yang seragam yang menunjukkan bahwa data dikumpulkan dengan format yang standar. Hal ini akan memudahkan langkah cleaning data dan analisis selanjutnya. \n",
    "- File CSV yang berbeda per stasiun yang kemudian dikelompokkan menggunakan dictionary memungkinkan analisis per stasiun secara terpisah maupun perbandingan antar stasiun. \n",
    "- Melihat kolom year, month, day, dan hour, kita bisa mengidentifikasi bahwa data merupakan data time series. Ini membuka peluang untuk analisis tren temporal (misalnya, tren harian, bulanan, atau tahunan).\n",
    "- Struktur data yang sudah terpisah per stasiun memudahkan penerapan teknik analisis lanjutan seperti perbandingan kualitas udara antar stasiun, analisis geospasial, ataupun clustering berdasarkan pola-pola tertentu."
   ]
  },
  {
   "cell_type": "markdown",
   "metadata": {
    "id": "FHSiqaZp8DC1"
   },
   "source": [
    "### Assessing Data"
   ]
  },
  {
   "cell_type": "code",
   "execution_count": null,
   "metadata": {
    "id": "ax-3tEjc9Cj1"
   },
   "outputs": [],
   "source": [
    "def assess(df):\n",
    "    results = {}\n",
    "    \n",
    "    # 1. Bentuk DataFrame\n",
    "    results[\"shape\"] = df.shape\n",
    "    \n",
    "    # 2. Missing Values\n",
    "    results[\"missing_values\"] = df.isnull().sum().to_dict()\n",
    "    \n",
    "    # 3. Nilai Invalid (cek apakah bisa dikonversi ke float)\n",
    "    numeric_cols = [\"PM2.5\", \"PM10\", \"SO2\", \"NO2\", \"CO\", \"O3\", \"TEMP\", \"PRES\", \"DEWP\", \"RAIN\", \"WSPM\"]\n",
    "    invalid_values = {}\n",
    "    for col in numeric_cols:\n",
    "        count = 0\n",
    "        if col in df.columns:\n",
    "            for val in df[col]:\n",
    "                if pd.notnull(val):\n",
    "                    try:\n",
    "                        float(val)\n",
    "                    except Exception:\n",
    "                        count += 1\n",
    "        invalid_values[col] = count\n",
    "    results[\"invalid_values\"] = invalid_values\n",
    "    \n",
    "    # 4. Baris duplikat\n",
    "    results[\"duplicate_rows\"] = int(df.duplicated().sum())\n",
    "    \n",
    "    # 5. Nilai tidak akurat (nilai negatif untuk kolom yang seharusnya non-negatif)\n",
    "    non_negative_cols = [\"PM2.5\", \"PM10\", \"SO2\", \"NO2\", \"CO\", \"O3\", \"RAIN\", \"WSPM\"]\n",
    "    inaccurate_values = {}\n",
    "    for col in non_negative_cols:\n",
    "        count = 0\n",
    "        if col in df.columns:\n",
    "            for val in df[col]:\n",
    "                try:\n",
    "                    if float(val) < 0:\n",
    "                        count += 1\n",
    "                except Exception:\n",
    "                    continue\n",
    "        inaccurate_values[col] = count\n",
    "    results[\"inaccurate_values\"] = inaccurate_values\n",
    "    \n",
    "    # 6. Nilai tidak konsisten (untuk kolom non-numerik)\n",
    "    inconsistent_values = {}\n",
    "    for col in df.columns:\n",
    "        if df[col].dtype == 'O':\n",
    "            inconsistent_values[col] = df[col].dropna().unique().tolist()\n",
    "    results[\"inconsistent_values\"] = inconsistent_values\n",
    "    \n",
    "    # 7. Deteksi Outlier dengan metode IQR \n",
    "    outliers = {}\n",
    "    numeric_columns = df.select_dtypes(include=[np.number]).columns\n",
    "    for col in numeric_columns:\n",
    "        if df[col].nunique() <= 1:\n",
    "            outliers[col] = 0\n",
    "            continue\n",
    "        Q1 = df[col].quantile(0.25)\n",
    "        Q3 = df[col].quantile(0.75)\n",
    "        IQR = Q3 - Q1\n",
    "        lower_bound = Q1 - 1.5 * IQR\n",
    "        upper_bound = Q3 + 1.5 * IQR\n",
    "        outliers[col] = sum(1 for x in df[col] if x < lower_bound or x > upper_bound)\n",
    "    results[\"outliers\"] = outliers\n",
    "    \n",
    "    return results\n",
    "\n",
    "# Lakukan assessment untuk setiap stasiun dan kumpulkan ringkasan khusus untuk PM2.5\n",
    "assessment_results = {}\n",
    "summary_data = []\n",
    "\n",
    "for station, df in station_dataframes.items():\n",
    "    res = assess(df)\n",
    "    assessment_results[station] = res\n",
    "    summary_data.append({\n",
    "       \"Station\": station,\n",
    "       \"Rows\": res[\"shape\"][0],\n",
    "       \"Missing_PM2.5\": res[\"missing_values\"].get(\"PM2.5\", 0),\n",
    "       \"Invalid_PM2.5\": res[\"invalid_values\"].get(\"PM2.5\", 0),\n",
    "       \"Duplicate_Rows\": res[\"duplicate_rows\"],\n",
    "       \"Outliers_PM2.5\": res[\"outliers\"].get(\"PM2.5\", 0)\n",
    "    })\n",
    "\n",
    "summary_df = pd.DataFrame(summary_data)\n",
    "print(\"Ringkasan Assessment untuk PM2.5 per stasiun:\")\n",
    "display(summary_df)\n",
    "\n",
    "# Visualisasi sederhana: Missing values & Outlier PM2.5 per stasiun\n",
    "plt.figure(figsize=(10, 6))\n",
    "plt.bar(summary_df[\"Station\"], summary_df[\"Missing_PM2.5\"], color=\"skyblue\")\n",
    "plt.xlabel(\"Stasiun\")\n",
    "plt.ylabel(\"Jumlah Missing PM2.5\")\n",
    "plt.title(\"Missing PM2.5 per Stasiun\")\n",
    "plt.xticks(rotation=45)\n",
    "plt.tight_layout()\n",
    "plt.show()\n",
    "\n",
    "plt.figure(figsize=(10, 6))\n",
    "plt.bar(summary_df[\"Station\"], summary_df[\"Outliers_PM2.5\"], color=\"salmon\")\n",
    "plt.xlabel(\"Stasiun\")\n",
    "plt.ylabel(\"Jumlah Outlier PM2.5\")\n",
    "plt.title(\"Outlier PM2.5 per Stasiun\")\n",
    "plt.xticks(rotation=45)\n",
    "plt.tight_layout()\n",
    "plt.show()\n"
   ]
  },
  {
   "cell_type": "markdown",
   "metadata": {
    "id": "7dtxhAPrkhPL"
   },
   "source": [
    "**Insight:**\n",
    "- Semua file memiliki jumlah baris dan kolom yang sama (35.064 baris dan 18 kolom), yang menunjukkan bahwa data dikumpulkan dalam periode dan struktur yang konsisten antar stasiun.\n",
    "- Jumlah nilai hilang pada kolom, terutama untuk PM2.5, bervariasi antar stasiun. Misalnya, ada stasiun yang memiliki missing value PM2.5 yang tinggi (seperti Shunyi dengan 913 nilai hilang) dibandingkan dengan stasiun lain (misalnya Wanliu dengan 382 nilai hilang). Ini mengindikasikan adanya variasi dalam kualitas pengumpulan data atau masalah pencatatan di masing-masing lokasi.\n",
    "- Tidak ditemukan baris duplikat dan invalid pada data.\n",
    "- Deteksi outlier menggunakan metode IQR menunjukkan adanya jumlah pencilan yang cukup tinggi pada kolom PM2.5 (misalnya 1626 outlier di Huairou)."
   ]
  },
  {
   "cell_type": "markdown",
   "metadata": {
    "id": "EhN5R4hr8DC1"
   },
   "source": [
    "### Cleaning Data"
   ]
  },
  {
   "cell_type": "code",
   "execution_count": null,
   "metadata": {
    "id": "jVnYpprE9Evz"
   },
   "outputs": [],
   "source": [
    "# Fungsi untuk imputasi outlier menggunakan metode IQR\n",
    "def impute_outliers(s, lower_quantile=0.25, upper_quantile=0.75, k=1.5):\n",
    "    Q1 = s.quantile(lower_quantile)\n",
    "    Q3 = s.quantile(upper_quantile)\n",
    "    IQR = Q3 - Q1\n",
    "    lower_bound = Q1 - k * IQR\n",
    "    upper_bound = Q3 + k * IQR\n",
    "    median_val = s.median()\n",
    "\n",
    "    s_imputed = s.copy()\n",
    "    s_imputed[s < lower_bound] = median_val\n",
    "    s_imputed[s > upper_bound] = median_val\n",
    "    return s_imputed\n",
    "\n",
    "# Daftar kolom yang akan dibersihkan\n",
    "columns_to_clean = [\"PM2.5\", \"PM10\", \"SO2\", \"NO2\", \"CO\", \"O3\", \"TEMP\", \"PRES\", \"DEWP\", \"RAIN\", \"WSPM\"]\n",
    "\n",
    "# Proses cleaning dan imputasi untuk setiap stasiun\n",
    "cleaned_dataframes = {}\n",
    "stats_summary = []\n",
    "\n",
    "for station, df in station_dataframes.items():\n",
    "    # 1. Gabungkan kolom tanggal menjadi datetime\n",
    "    df['datetime'] = pd.to_datetime(df[['year', 'month', 'day', 'hour']])\n",
    "    df.drop(['year', 'month', 'day', 'hour'], axis=1, inplace=True)\n",
    "    \n",
    "    # 2. Pindahkan kolom datetime ke posisi kedua\n",
    "    datetime_col = df.pop('datetime')\n",
    "    df.insert(1, 'datetime', datetime_col)\n",
    "\n",
    "    # 3. Pastikan semua kolom numerik\n",
    "    for col in columns_to_clean:\n",
    "        df[col] = pd.to_numeric(df[col], errors='coerce')\n",
    "\n",
    "    # 4. Imputasi Missing Values (NaN)\n",
    "    df.sort_values('datetime', inplace=True)\n",
    "\n",
    "    for col in columns_to_clean:\n",
    "        df[f\"{col}_clean\"] = df[col].interpolate(method='linear')  # Interpolasi linier\n",
    "        df[f\"{col}_clean\"] = df[f\"{col}_clean\"].ffill().bfill()  # FFill & BFill\n",
    "        df[f\"{col}_clean\"] = df[f\"{col}_clean\"].fillna(df[f\"{col}_clean\"].mean())  # Isi NaN dengan rata-rata\n",
    "\n",
    "    # 5. Imputasi Outlier menggunakan metode IQR\n",
    "    for col in columns_to_clean:\n",
    "        df[f\"{col}_imputed\"] = impute_outliers(df[f\"{col}_clean\"])\n",
    "\n",
    "    # Simpan hasil cleaning ke dictionary\n",
    "    cleaned_dataframes[station] = df\n",
    "\n",
    "    # 6. Statistik ringkasan sebelum & sesudah cleaning\n",
    "    stats_summary.append({\n",
    "        \"Station\": station,\n",
    "        \"Original_PM2.5_Mean\": df[\"PM2.5\"].mean(),\n",
    "        \"Clean_PM2.5_Mean\": df[\"PM2.5_clean\"].mean(),\n",
    "        \"Imputed_PM2.5_Mean\": df[\"PM2.5_imputed\"].mean(),\n",
    "        \"Original_PM2.5_Median\": df[\"PM2.5\"].median(),\n",
    "        \"Imputed_PM2.5_Median\": df[\"PM2.5_imputed\"].median(),\n",
    "        \"Missing_Values_After_Cleaning\": df[columns_to_clean].isna().sum().sum(),  # Cek apakah masih ada NaN\n",
    "    })\n",
    "\n",
    "# 7. Menampilkan Ringkasan Cleaning Data\n",
    "stats_df = pd.DataFrame(stats_summary)\n",
    "print(\"Summary Statistik PM2.5 per Stasiun:\")\n",
    "display(stats_df)\n"
   ]
  },
  {
   "cell_type": "markdown",
   "metadata": {
    "id": "Q_5ejIqckiSP"
   },
   "source": [
    "**Insight:**\n",
    "- Dengan menggabungkan kolom tanggal (year, month, day, hour) menjadi satu kolom datetime dan mengurutkan data berdasarkan waktu, kita mendapatkan deret waktu yang lebih konsisten. Hal ini memudahkan analisis tren PM2.5 secara time series.\n",
    "- Penggunaan interpolasi linier untuk mengisi missing data membuat data PM2.5 menjadi lebih kontinu. Jika missing data tidak diisi, bisa terjadi celah yang mengganggu analisis tren. Dengan imputasi, distribusi data menjadi lebih lengkap.\n",
    "- Dari statistik awal, nilai rata-rata (mean) PM2.5 cenderung lebih tinggi karena adanya nilai ekstrim. Setelah dilakukan imputasi outlier dengan mengganti nilai ekstrim menggunakan median, nilai mean menurun secara signifikan, sedangkan median tetap stabil. Ini menunjukkan bahwa outlier sebelumnya memberikan bias pada perhitungan rata-rata.\n",
    "- Setelah proses cleaning, data PM2.5 menjadi lebih homogen dan siap untuk analisis tren serta perbandingan kualitas udara antar stasiun. Data yang sudah dibersihkan memberikan dasar yang lebih solid untuk menjawab pertanyaan bisnis, misalnya apakah terdapat tren penurunan atau kenaikan konsentrasi PM2.5 dan perbedaan antar stasiun.\n",
    "\n"
   ]
  },
  {
   "cell_type": "markdown",
   "metadata": {
    "id": "gp-Y6wU38DC1"
   },
   "source": [
    "## Exploratory Data Analysis (EDA)"
   ]
  },
  {
   "cell_type": "code",
   "execution_count": null,
   "metadata": {
    "id": "e9CQCZjk8DC2"
   },
   "outputs": [],
   "source": [
    "# --- EDA: Eksplorasi Data Umum ---\n",
    "\n",
    "# 1. Tampilkan contoh data (5 baris) dari setiap stasiun setelah cleaning\n",
    "print(\"Contoh data (5 baris) dari setiap stasiun setelah cleaning:\")\n",
    "for station, df in cleaned_dataframes.items():\n",
    "    print(f\"\\nStasiun: {station}\")\n",
    "    display(df.head(5))\n",
    "\n",
    "# 2. Kelompokkan stasiun ke dalam kategori wilayah yang lebih luas\n",
    "station_categories = {\n",
    "    \"Aotizhongxin\": \"Perkotaan\",\n",
    "    \"Dongsi\": \"Perkotaan\",\n",
    "    \"Guanyuan\": \"Perkotaan\",\n",
    "    \"Wanshouxigong\": \"Perkotaan\",\n",
    "    \"Gucheng\": \"Industri\",\n",
    "    \"Changping\": \"Pinggiran/Suburban\",\n",
    "    \"Huairou\": \"Pinggiran/Suburban\",\n",
    "    \"Shunyi\": \"Pinggiran/Suburban\",\n",
    "    \"Dingling\": \"Sejarah & Budaya\",\n",
    "    \"Tiantan\": \"Sejarah & Budaya\",\n",
    "    \"Wanliu\": \"Pendidikan & Penelitian\",\n",
    "    \"Nongzhanguan\": \"Pendidikan & Penelitian\"\n",
    "}\n",
    "\n",
    "# Tambahkan kategori wilayah ke masing-masing DataFrame\n",
    "for station, df in cleaned_dataframes.items():\n",
    "    df[\"Kategori\"] = station_categories.get(station, \"Tidak Dikategorikan\")\n",
    "\n",
    "# 3. Ringkasan Statistik PM2.5 dan Faktor Lingkungan untuk Semua Stasiun\n",
    "global_summary = []\n",
    "for station, df in cleaned_dataframes.items():\n",
    "    # Ambil statistik deskriptif untuk semua variabel yang telah di-impute\n",
    "    stats = df[[\"PM2.5_imputed\", \"PM10_imputed\", \"SO2_imputed\", \"NO2_imputed\", \n",
    "                \"CO_imputed\", \"O3_imputed\", \"TEMP_imputed\", \"PRES_imputed\", \n",
    "                \"DEWP_imputed\", \"WSPM_imputed\"]].describe().T  # Transpose agar statistik menjadi baris\n",
    "    stats[\"Station\"] = station  # Tambahkan nama stasiun sebagai kolom\n",
    "    stats[\"Kategori\"] = station_categories[station]  # Tambahkan kategori wilayah\n",
    "    global_summary.append(stats)\n",
    "\n",
    "# Gabungkan semua ringkasan menjadi satu DataFrame\n",
    "summary_df2 = pd.concat(global_summary).reset_index().rename(columns={\"index\": \"Variable\"})\n",
    "print(\"Ringkasan Statistik PM2.5 dan Faktor Lingkungan per Stasiun:\")\n",
    "display(summary_df2)\n",
    "\n",
    "# 4. Agregasi Harian, Bulanan, dan Tahunan untuk Tren PM2.5 & Faktor Lingkungan\n",
    "agg_list_pm25 = []\n",
    "agg_list_factors = []\n",
    "\n",
    "for station, df in cleaned_dataframes.items():\n",
    "    df[\"date\"] = df[\"datetime\"].dt.date\n",
    "    df[\"year\"] = df[\"datetime\"].dt.year\n",
    "    df[\"month\"] = df[\"datetime\"].dt.month\n",
    "    \n",
    "    # Agregasi PM2.5\n",
    "    daily_avg = df.groupby(\"date\")[\"PM2.5_imputed\"].mean().reset_index()\n",
    "    daily_avg[\"Station\"] = station\n",
    "    \n",
    "    monthly_avg = df.groupby([\"year\", \"month\"])[\"PM2.5_imputed\"].mean().reset_index()\n",
    "    monthly_avg[\"Station\"] = station\n",
    "    \n",
    "    yearly_avg = df.groupby(\"year\")[\"PM2.5_imputed\"].mean().reset_index()\n",
    "    yearly_avg[\"Station\"] = station\n",
    "    \n",
    "    agg_list_pm25.append((daily_avg, monthly_avg, yearly_avg))\n",
    "    \n",
    "    # Agregasi Faktor Lingkungan\n",
    "    monthly_factors = df.groupby([\"year\", \"month\"])[[\"SO2_imputed\", \"NO2_imputed\", \"CO_imputed\", \n",
    "                                                      \"O3_imputed\", \"TEMP_imputed\", \"PRES_imputed\", \n",
    "                                                      \"DEWP_imputed\", \"WSPM_imputed\"]].mean().reset_index()\n",
    "    monthly_factors[\"Station\"] = station\n",
    "    \n",
    "    yearly_factors = df.groupby(\"year\")[[\"SO2_imputed\", \"NO2_imputed\", \"CO_imputed\", \n",
    "                                          \"O3_imputed\", \"TEMP_imputed\", \"PRES_imputed\", \n",
    "                                          \"DEWP_imputed\", \"WSPM_imputed\"]].mean().reset_index()\n",
    "    yearly_factors[\"Station\"] = station\n",
    "\n",
    "    agg_list_factors.append((monthly_factors, yearly_factors))\n",
    "\n",
    "# 5. Agregasi Tambahan Berdasarkan Kategori Wilayah\n",
    "all_data = []\n",
    "for station, df in cleaned_dataframes.items():\n",
    "    temp_df = df.copy()\n",
    "    temp_df[\"Kategori\"] = station_categories.get(station, \"Tidak Dikategorikan\")  # Pastikan kategori ditambahkan\n",
    "    all_data.append(temp_df)\n",
    "\n",
    "all_data_df = pd.concat(all_data)\n",
    "\n",
    "# Tampilkan ringkasan data setelah dikategorikan\n",
    "print(\"Ringkasan data setelah penambahan kategori wilayah:\")\n",
    "display(all_data_df.groupby(\"Kategori\")[[\"PM2.5_imputed\", \"PM10_imputed\", \"SO2_imputed\", \"NO2_imputed\", \n",
    "                                         \"CO_imputed\", \"O3_imputed\", \"TEMP_imputed\", \"PRES_imputed\", \n",
    "                                         \"DEWP_imputed\", \"WSPM_imputed\"]].mean().reset_index())\n"
   ]
  },
  {
   "cell_type": "markdown",
   "metadata": {
    "id": "th_Lzl2Fkj9O"
   },
   "source": [
    "**Insight**  \n",
    "\n",
    "- **Tampilan Data Awal & Statistik Deskriptif:**  \n",
    "  - Tampilan 5 baris pertama dari setiap stasiun menunjukkan bahwa struktur data telah bersih dan konsisten setelah proses cleaning, termasuk format datetime serta kolom polutan dan faktor lingkungan.  \n",
    "  - Penambahan kategori wilayah (Perkotaan, Industri, Suburban, Sejarah & Budaya, serta Pendidikan & Penelitian) memungkinkan analisis lebih lanjut mengenai hubungan antara lokasi dan kualitas udara.  \n",
    "  - Ringkasan statistik menunjukkan adanya perbedaan signifikan antar stasiun dalam hal konsentrasi polutan dan faktor lingkungan, yang dapat memberikan indikasi pengaruh lokal terhadap kualitas udara.  \n",
    "  - Konsentrasi PM2.5 yang lebih tinggi di beberapa kategori wilayah seperti industri dan perkotaan mengindikasikan adanya faktor eksternal seperti aktivitas kendaraan, industri, atau kepadatan populasi yang dapat memengaruhi kualitas udara.  \n",
    "\n",
    "- **Agregasi Harian, Bulanan, dan Tahunan:**  \n",
    "  - Agregasi data berdasarkan waktu memberikan gambaran mengenai pola perubahan kualitas udara dalam jangka pendek dan jangka panjang.  \n",
    "  - Agregasi harian menunjukkan variasi fluktuasi PM2.5 dalam satu hari, yang kemungkinan dipengaruhi oleh faktor-faktor seperti pola lalu lintas dan kondisi atmosfer.  \n",
    "  - Agregasi bulanan memperlihatkan pola musiman di mana polusi udara cenderung meningkat pada bulan-bulan musim dingin dan menurun selama musim panas.  \n",
    "  - Agregasi tahunan berguna untuk memahami tren polusi udara dari waktu ke waktu, apakah mengalami peningkatan atau penurunan secara keseluruhan.  \n",
    "\n",
    "- **Perbedaan PM2.5 Berdasarkan Kategori Wilayah:**  \n",
    "  - Rata-rata PM2.5 tertinggi ditemukan di kategori industri, diikuti oleh kawasan perkotaan, yang menunjukkan bahwa aktivitas manusia di daerah ini memiliki dampak besar terhadap tingkat polusi udara.  \n",
    "  - Wilayah pinggiran atau suburban memiliki tingkat PM2.5 yang lebih rendah dibandingkan dengan kawasan perkotaan dan industri, mengindikasikan bahwa faktor lingkungan seperti vegetasi dan jarak dari sumber polusi utama berperan dalam meningkatkan kualitas udara.  \n",
    "  - Kategori sejarah & budaya serta pendidikan & penelitian cenderung memiliki tingkat PM2.5 lebih rendah dibandingkan perkotaan, meskipun masih lebih tinggi dibandingkan daerah pinggiran, yang mungkin dipengaruhi oleh lalu lintas wisatawan atau kendaraan pribadi di sekitar area tersebut.  \n",
    "\n",
    "- **Validasi Konsistensi Data:**  \n",
    "  - Data telah bersih dengan tidak adanya nilai NaN atau anomali besar dalam distribusi setelah dilakukan proses imputasi dan pengelompokan kategori wilayah.  \n",
    "  - Dengan adanya agregasi dan klasifikasi wilayah, data telah siap untuk tahap analisis lebih lanjut guna menjawab pertanyaan bisnis terkait faktor lingkungan dan perbedaan kualitas udara antar lokasi."
   ]
  },
  {
   "cell_type": "markdown",
   "metadata": {
    "id": "zsyZjqak8DC2"
   },
   "source": [
    "## Visualization & Explanatory Analysis"
   ]
  },
  {
   "cell_type": "markdown",
   "metadata": {
    "id": "HZxOiQ6n8DC2"
   },
   "source": [
    "### Pertanyaan 1:"
   ]
  },
  {
   "cell_type": "code",
   "execution_count": null,
   "metadata": {
    "id": "1swJUdAD8DC2"
   },
   "outputs": [],
   "source": [
    "# Visualisasi Tren PM2.5 Bulanan per Stasiun\n",
    "plt.figure(figsize=(12, 6))\n",
    "\n",
    "for _, monthly_avg, _ in agg_list_pm25:\n",
    "    monthly_avg[\"Year-Month\"] = pd.to_datetime(monthly_avg[\"year\"].astype(str) + \"-\" + monthly_avg[\"month\"].astype(str))  # Format datetime\n",
    "    plt.plot(monthly_avg[\"Year-Month\"], monthly_avg[\"PM2.5_imputed\"], marker='o', label=monthly_avg[\"Station\"].iloc[0])\n",
    "\n",
    "plt.xlabel(\"Bulan-Tahun\")\n",
    "plt.ylabel(\"Rata-rata PM2.5\")\n",
    "plt.title(\"Tren Bulanan Rata-rata PM2.5 per Stasiun\")\n",
    "plt.xticks(rotation=45)  \n",
    "plt.legend(bbox_to_anchor=(1.05, 1), loc='upper left', title=\"Stasiun\")\n",
    "plt.grid(True, linestyle=\"--\", alpha=0.7)  \n",
    "plt.tight_layout()\n",
    "plt.show()\n",
    "\n",
    "# Visualisasi Tren PM2.5 Bulanan Berdasarkan Kategori Wilayah\n",
    "plt.figure(figsize=(12, 6))\n",
    "\n",
    "for kategori, df in all_data_df.groupby(\"Kategori\"):\n",
    "    monthly_trend = df.groupby([\"year\", \"month\"])[\"PM2.5_imputed\"].mean().reset_index()\n",
    "    monthly_trend[\"Year-Month\"] = pd.to_datetime(monthly_trend[\"year\"].astype(str) + \"-\" + monthly_trend[\"month\"].astype(str))\n",
    "    plt.plot(monthly_trend[\"Year-Month\"], monthly_trend[\"PM2.5_imputed\"], marker='o', label=kategori)\n",
    "\n",
    "plt.xlabel(\"Bulan-Tahun\")\n",
    "plt.ylabel(\"Rata-rata PM2.5\")\n",
    "plt.title(\"Tren Bulanan Rata-rata PM2.5 Berdasarkan Kategori Wilayah\")\n",
    "plt.xticks(rotation=45)\n",
    "plt.legend(title=\"Kategori Wilayah\", bbox_to_anchor=(1.05, 1), loc='upper left')\n",
    "plt.grid(True, linestyle=\"--\", alpha=0.7)\n",
    "plt.tight_layout()\n",
    "plt.show()\n",
    "\n",
    "# Visualisasi Rata-rata PM2.5 per Bulan dalam Setahun untuk Semua Stasiun\n",
    "plt.figure(figsize=(10, 6))\n",
    "\n",
    "monthly_avg_all = all_data_df.groupby(\"month\")[\"PM2.5_imputed\"].mean().reset_index()\n",
    "plt.plot(monthly_avg_all[\"month\"], monthly_avg_all[\"PM2.5_imputed\"], marker='o', linestyle='-', label=\"Rata-rata Semua Stasiun\")\n",
    "\n",
    "plt.xlabel(\"Bulan\")\n",
    "plt.ylabel(\"Rata-rata PM2.5\")\n",
    "plt.title(\"Rata-rata PM2.5 per Bulan dalam Setahun (Semua Stasiun)\")\n",
    "plt.xticks(range(1, 13), [\"Jan\", \"Feb\", \"Mar\", \"Apr\", \"Mei\", \"Jun\", \"Jul\", \"Agu\", \"Sep\", \"Okt\", \"Nov\", \"Des\"])\n",
    "plt.grid(True, linestyle=\"--\", alpha=0.7)\n",
    "plt.legend()\n",
    "plt.show()\n",
    "\n",
    "\n",
    "# Visualisasi Rata-rata PM2.5 per Bulan Berdasarkan Kategori Wilayah\n",
    "plt.figure(figsize=(12, 6))\n",
    "\n",
    "for kategori, df in all_data_df.groupby(\"Kategori\"):\n",
    "    monthly_avg = df.groupby(\"month\")[\"PM2.5_imputed\"].mean().reset_index()\n",
    "    plt.plot(monthly_avg[\"month\"], monthly_avg[\"PM2.5_imputed\"], marker='o', linestyle='-', label=kategori)\n",
    "\n",
    "plt.xlabel(\"Bulan\")\n",
    "plt.ylabel(\"Rata-rata PM2.5\")\n",
    "plt.title(\"Rata-rata PM2.5 per Bulan Berdasarkan Kategori Wilayah\")\n",
    "plt.xticks(range(1, 13), [\"Jan\", \"Feb\", \"Mar\", \"Apr\", \"Mei\", \"Jun\", \"Jul\", \"Agu\", \"Sep\", \"Okt\", \"Nov\", \"Des\"])\n",
    "plt.legend(title=\"Kategori Wilayah\", bbox_to_anchor=(1.05, 1), loc='upper left')\n",
    "plt.grid(True, linestyle=\"--\", alpha=0.7)\n",
    "plt.tight_layout()\n",
    "plt.show()\n"
   ]
  },
  {
   "cell_type": "markdown",
   "metadata": {},
   "source": [
    "**Insight**  \n",
    "\n",
    "- **Tren Musiman PM2.5 yang Konsisten**  \n",
    "  - Grafik menunjukkan pola musiman yang jelas, di mana konsentrasi PM2.5 cenderung meningkat pada akhir tahun hingga awal tahun berikutnya dan menurun selama pertengahan tahun.  \n",
    "  - Tren ini terlihat konsisten di seluruh stasiun dan kategori wilayah, yang menunjukkan adanya faktor musiman yang berpengaruh besar terhadap kualitas udara.  \n",
    "  - Musim dingin memiliki tingkat PM2.5 yang lebih tinggi, kemungkinan karena kondisi atmosfer yang stabil, suhu yang lebih rendah, dan peningkatan aktivitas pemanasan rumah tangga atau industri yang menggunakan bahan bakar fosil.  \n",
    "\n",
    "- **Perbedaan Konsentrasi PM2.5 Antar Wilayah**  \n",
    "  - Wilayah industri dan perkotaan menunjukkan tingkat PM2.5 yang lebih tinggi dibandingkan dengan wilayah pinggiran, sejarah, dan pendidikan.  \n",
    "  - Ini menunjukkan bahwa aktivitas manusia, seperti transportasi, industri, dan kepadatan populasi, berkontribusi besar terhadap kualitas udara yang lebih buruk di area tersebut.  \n",
    "  - Wilayah pinggiran dan sejarah cenderung memiliki tingkat polusi yang lebih rendah, kemungkinan karena lebih banyak ruang hijau dan lebih sedikit sumber emisi kendaraan atau industri.  \n",
    "\n",
    "- **Pola Fluktuasi Bulanan PM2.5**  \n",
    "  - Grafik rata-rata PM2.5 per bulan dalam satu tahun menunjukkan bahwa konsentrasi polusi udara mencapai puncaknya pada bulan-bulan musim dingin, seperti November hingga Maret, dan mengalami penurunan signifikan pada bulan musim panas seperti Juli dan Agustus.  \n",
    "  - Faktor atmosferik seperti curah hujan yang lebih tinggi dan peningkatan sirkulasi udara pada musim panas dapat membantu mengencerkan polusi udara, sehingga menurunkan kadar PM2.5.  \n",
    "\n",
    "- **Implikasi untuk Kebijakan dan Intervensi**  \n",
    "  - Data ini memberikan wawasan yang penting bagi pembuat kebijakan untuk merancang strategi mitigasi polusi udara yang lebih efektif.  \n",
    "  - Jika polusi udara meningkat pada bulan-bulan tertentu, langkah-langkah intervensi seperti pembatasan kendaraan, pengurangan emisi industri, atau peningkatan penghijauan dapat difokuskan pada periode tersebut.  \n",
    "  - Peningkatan kesadaran masyarakat dan kebijakan berbasis musim dapat membantu mengurangi dampak buruk polusi udara pada kesehatan masyarakat.  "
   ]
  },
  {
   "cell_type": "markdown",
   "metadata": {
    "id": "DgHI7CiU8DC2"
   },
   "source": [
    "### Pertanyaan 2:"
   ]
  },
  {
   "cell_type": "code",
   "execution_count": null,
   "metadata": {
    "id": "Go0lCsvO8DC2"
   },
   "outputs": [],
   "source": [
    "# --- Pertanyaan 2: Faktor Lingkungan & Perbedaan Kualitas Udara Antar Stasiun ---\n",
    "\n",
    "# Heatmap Korelasi Semua Stasiun\n",
    "# Pilih hanya kolom numerik yang relevan untuk korelasi\n",
    "relevant_cols = [\"PM2.5_imputed\", \"PM10_imputed\", \"SO2_imputed\", \"NO2_imputed\",\n",
    "                 \"CO_imputed\", \"O3_imputed\", \"TEMP_imputed\", \"PRES_imputed\", \n",
    "                 \"DEWP_imputed\", \"WSPM_imputed\"]\n",
    "\n",
    "numeric_df = all_data_df[relevant_cols]  # Ambil hanya kolom yang relevan\n",
    "\n",
    "# Hitung matriks korelasi\n",
    "corr_matrix = numeric_df.corr()\n",
    "\n",
    "# Tampilkan heatmap korelasi\n",
    "plt.figure(figsize=(10, 8))\n",
    "sns.heatmap(corr_matrix, annot=True, cmap=\"coolwarm\", fmt=\".2f\")\n",
    "plt.title(\"Matriks Korelasi - Semua Stasiun (Bersih)\")\n",
    "plt.tight_layout()\n",
    "plt.show()\n",
    "\n",
    "\n",
    "\n",
    "# Faktor lingkungan dengan korelasi lebih signifikan terhadap PM2.5\n",
    "factors = [\"DEWP_imputed\", \"WSPM_imputed\"]  # Fokus hanya pada faktor yang lebih relevan\n",
    "\n",
    "fig, axes = plt.subplots(1, 2, figsize=(14, 6))  # 1 baris, 2 kolom\n",
    "axes = axes.flatten()\n",
    "\n",
    "for i, factor in enumerate(factors):\n",
    "    axes[i].scatter(all_data_df[factor], all_data_df[\"PM2.5_imputed\"], alpha=0.3)\n",
    "    axes[i].set_xlabel(factor)\n",
    "    axes[i].set_ylabel(\"PM2.5\")\n",
    "    axes[i].set_title(f\"Hubungan {factor} dengan PM2.5\")\n",
    "    axes[i].grid(True, linestyle=\"--\", alpha=0.5)\n",
    "\n",
    "plt.tight_layout()\n",
    "plt.show()\n",
    "\n",
    "\n",
    "# Bar Chart Rata-rata PM2.5 Berdasarkan Kategori Wilayah\n",
    "pm25_per_kategori = all_data_df.groupby(\"Kategori\")[\"PM2.5_imputed\"].mean().reset_index()\n",
    "\n",
    "plt.figure(figsize=(10, 6))\n",
    "sns.barplot(x=\"Kategori\", y=\"PM2.5_imputed\", hue=\"Kategori\", data=pm25_per_kategori, palette=\"coolwarm\", legend=False)\n",
    "plt.xticks(rotation=45)\n",
    "plt.xlabel(\"Kategori Wilayah\")\n",
    "plt.ylabel(\"Rata-rata PM2.5\")\n",
    "plt.title(\"Rata-rata PM2.5 Berdasarkan Kategori Wilayah\")\n",
    "plt.grid(axis=\"y\", linestyle=\"--\", alpha=0.7)\n",
    "plt.show()\n",
    "\n",
    "\n",
    "\n",
    "# Boxplot Distribusi PM2.5 Berdasarkan Kategori Wilayah\n",
    "plt.figure(figsize=(12, 6))\n",
    "sns.boxplot(x=\"Kategori\", y=\"PM2.5_imputed\", hue=\"Kategori\", data=all_data_df, palette=\"coolwarm\", legend=False)\n",
    "plt.xticks(rotation=45)\n",
    "plt.xlabel(\"Kategori Wilayah\")\n",
    "plt.ylabel(\"Distribusi PM2.5\")\n",
    "plt.title(\"Distribusi PM2.5 Berdasarkan Kategori Wilayah\")\n",
    "plt.grid(axis=\"y\", linestyle=\"--\", alpha=0.7)\n",
    "plt.show()\n",
    "\n"
   ]
  },
  {
   "cell_type": "markdown",
   "metadata": {
    "id": "_0-36BDLklRg"
   },
   "source": [
    "**Insight**  \n",
    "\n",
    "- **Perbedaan Konsentrasi PM2.5 Berdasarkan Kategori Wilayah**  \n",
    "  - Wilayah industri dan perkotaan memiliki konsentrasi PM2.5 yang lebih tinggi dibandingkan wilayah pinggiran/suburban dan sejarah & budaya.  \n",
    "  - Aktivitas manusia, seperti transportasi dan industri, berkontribusi signifikan terhadap tingginya polusi udara.  \n",
    "  - Wilayah pinggiran dan sejarah cenderung memiliki kualitas udara lebih baik, kemungkinan karena lebih sedikit kendaraan bermotor dan lebih banyak area hijau.  \n",
    "\n",
    "- **Dampak Faktor Lingkungan terhadap PM2.5**  \n",
    "  - Kecepatan angin (WSPM) memiliki korelasi negatif (-0.22) dengan PM2.5, menunjukkan bahwa angin kencang membantu menyebarkan polutan dan mengurangi konsentrasinya.  \n",
    "  - Titik embun (DEWP) memiliki korelasi positif (0.20), yang menunjukkan bahwa kelembapan dapat mempengaruhi akumulasi polutan di udara.  \n",
    "  - Suhu (TEMP) dan tekanan udara (PRES) memiliki korelasi yang sangat rendah dengan PM2.5 (-0.02 dan -0.05), yang menunjukkan bahwa perubahan faktor ini tidak berdampak signifikan terhadap polusi udara.  \n",
    "\n",
    "- **Hubungan PM2.5 dengan Polutan Lain**  \n",
    "  - PM10 memiliki korelasi tinggi dengan PM2.5 (0.78), yang menunjukkan bahwa keduanya kemungkinan berasal dari sumber yang sama, seperti emisi kendaraan dan industri.  \n",
    "  - CO dan NO2 juga memiliki korelasi sedang dengan PM2.5 (0.62 dan 0.53), mengindikasikan bahwa transportasi memainkan peran utama dalam peningkatan polusi udara.  \n",
    "  - SO2 memiliki korelasi lebih rendah (0.31), menunjukkan bahwa pembakaran batu bara dan aktivitas industri masih berkontribusi terhadap polusi udara, tetapi tidak sebesar sektor transportasi."
   ]
  },
  {
   "cell_type": "markdown",
   "metadata": {
    "id": "9y4VUsmcYNZ5"
   },
   "source": [
    "## Analisis Lanjutan (Opsional)"
   ]
  },
  {
   "cell_type": "code",
   "execution_count": null,
   "metadata": {
    "id": "iWhnzsJGYUCO"
   },
   "outputs": [],
   "source": []
  },
  {
   "cell_type": "markdown",
   "metadata": {},
   "source": [
    "# Conclusion"
   ]
  },
  {
   "cell_type": "markdown",
   "metadata": {
    "id": "_WeHlCeX8DC2"
   },
   "source": [
    "1. **Tren Perubahan Konsentrasi PM2.5**  \n",
    "   - Konsentrasi PM2.5 mengalami pola musiman yang jelas, dengan peningkatan signifikan pada akhir tahun hingga awal tahun berikutnya, dan penurunan selama pertengahan tahun.  \n",
    "   - Tren ini konsisten di semua stasiun, menunjukkan adanya faktor musiman yang memengaruhi kualitas udara, seperti kondisi atmosfer yang stabil dan peningkatan aktivitas pemanasan pada musim dingin.  \n",
    "   - Wilayah industri dan perkotaan memiliki tingkat PM2.5 lebih tinggi dibandingkan wilayah pinggiran/suburban dan sejarah & budaya, mengindikasikan bahwa aktivitas manusia berperan besar dalam meningkatkan polusi udara.  \n",
    "\n",
    "2. **Faktor yang Memengaruhi Perubahan Kualitas Udara**  \n",
    "   - Faktor lingkungan memiliki pengaruh yang bervariasi terhadap konsentrasi PM2.5.  \n",
    "   - Kecepatan angin (WSPM) memiliki korelasi negatif (-0.22) dengan PM2.5, menunjukkan bahwa angin membantu menyebarkan polutan dan mengurangi konsentrasinya.  \n",
    "   - Titik embun (DEWP) memiliki korelasi positif (0.20), yang menunjukkan bahwa kelembapan dapat mempengaruhi akumulasi polutan di udara.  \n",
    "   - Suhu (TEMP) dan tekanan udara (PRES) memiliki korelasi yang sangat rendah dengan PM2.5, menunjukkan bahwa faktor ini tidak berdampak signifikan terhadap polusi udara.  \n",
    "\n",
    "3. **Sumber Polusi dan Korelasi dengan Polutan Lain**  \n",
    "   - PM2.5 memiliki korelasi tinggi dengan PM10 (0.78), yang menunjukkan bahwa keduanya kemungkinan berasal dari sumber yang sama, seperti emisi kendaraan dan industri.  \n",
    "   - CO dan NO2 juga memiliki korelasi sedang dengan PM2.5 (0.62 dan 0.53), menegaskan bahwa aktivitas transportasi berkontribusi besar terhadap polusi udara.  \n",
    "   - SO2 memiliki korelasi lebih rendah (0.31), yang menunjukkan bahwa pembakaran batu bara dan aktivitas industri masih berpengaruh, tetapi tidak sebesar transportasi.  \n",
    "\n",
    "4. **Implikasi untuk Kebijakan dan Intervensi**  \n",
    "   - Peningkatan polusi udara yang terjadi pada musim dingin menunjukkan perlunya kebijakan mitigasi berbasis musim, seperti pembatasan kendaraan atau pengawasan emisi pada periode kritis.  \n",
    "   - Wilayah industri dan perkotaan memerlukan strategi pengurangan polusi yang lebih agresif dibandingkan wilayah pinggiran dan sejarah, yang secara alami memiliki kualitas udara lebih baik.  \n",
    "   - Peningkatan penghijauan dan pengaturan zona industri dapat menjadi solusi jangka panjang untuk mengurangi dampak polusi udara di kawasan dengan tingkat PM2.5 tinggi.  \n",
    "\n",
    "**Rekomendasi**  \n",
    "- **Pengawasan dan intervensi lebih ketat pada periode kritis**, terutama pada bulan-bulan dengan konsentrasi PM2.5 tertinggi.  \n",
    "- **Peningkatan kebijakan ramah lingkungan**, terutama di wilayah perkotaan dan industri, untuk mengurangi dampak emisi kendaraan.  \n",
    "- **Pemantauan dan analisis lanjutan di wilayah dengan konsentrasi PM2.5 tinggi**, guna mengidentifikasi sumber spesifik polusi dan menentukan kebijakan mitigasi yang lebih efektif.  \n",
    "- **Penerapan sistem peringatan dini** berbasis faktor lingkungan seperti kecepatan angin dan kelembapan, untuk memperkirakan potensi lonjakan polusi udara.  \n",
    "- **Penyesuaian kebijakan pengendalian emisi** dengan mempertimbangkan faktor lokal dan musim, agar strategi mitigasi lebih tepat sasaran.  "
   ]
  }
 ],
 "metadata": {
  "colab": {
   "provenance": []
  },
  "kernelspec": {
   "display_name": "base",
   "language": "python",
   "name": "python3"
  },
  "language_info": {
   "codemirror_mode": {
    "name": "ipython",
    "version": 3
   },
   "file_extension": ".py",
   "mimetype": "text/x-python",
   "name": "python",
   "nbconvert_exporter": "python",
   "pygments_lexer": "ipython3",
   "version": "3.12.7"
  }
 },
 "nbformat": 4,
 "nbformat_minor": 0
}
