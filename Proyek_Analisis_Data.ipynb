{
 "cells": [
  {
   "cell_type": "markdown",
   "metadata": {
    "id": "H9wADwK78DCz"
   },
   "source": [
    "# Proyek Analisis Data: Air-quality-dataset\n",
    "- **Nama:** Izzuddin Ahmad Afif\n",
    "- **Email:** izzuddinafif@gmail.com\n",
    "- **ID Dicoding:** izzuddinafif"
   ]
  },
  {
   "cell_type": "markdown",
   "metadata": {
    "id": "eE0raob58DC0"
   },
   "source": [
    "## Menentukan Pertanyaan Bisnis"
   ]
  },
  {
   "cell_type": "markdown",
   "metadata": {
    "id": "GmQeQ5YF8DC0"
   },
   "source": [
    "- Bagaimana tren konsentrasi PM2.5 di masing-masing stasiun dari waktu ke waktu?\n",
    "- Apakah terdapat perbedaan signifikan dalam kualitas udara antar stasiun, dan faktor apa yang mungkin menyebabkannya?"
   ]
  },
  {
   "cell_type": "markdown",
   "metadata": {
    "id": "H-z4QGlO8DC1"
   },
   "source": [
    "## Import Semua Packages/Library yang Digunakan"
   ]
  },
  {
   "cell_type": "code",
   "execution_count": null,
   "metadata": {
    "id": "FVYwaObI8DC1"
   },
   "outputs": [],
   "source": [
    "import pandas as pd\n",
    "import numpy as np\n",
    "import matplotlib.pyplot as plt\n",
    "import seaborn as sns\n",
    "import seaborn as sb\n",
    "import streamlit as st\n",
    "import os\n",
    "import glob"
   ]
  },
  {
   "cell_type": "markdown",
   "metadata": {
    "id": "h_Sh51Xy8DC1"
   },
   "source": [
    "## Data Wrangling"
   ]
  },
  {
   "cell_type": "markdown",
   "metadata": {
    "id": "sXU2GBYu8DC1"
   },
   "source": [
    "### Gathering Data"
   ]
  },
  {
   "cell_type": "code",
   "execution_count": null,
   "metadata": {
    "id": "zjCBk1BI8DC1"
   },
   "outputs": [],
   "source": [
    "# Load semua nama csv file dalam folder csv\n",
    "folder_path = 'csv'\n",
    "csv_files = glob.glob(os.path.join(folder_path, '*.csv'))\n",
    "\n",
    "# Dictionary untuk menampung data setiap stasiun dengan key berupa nama stasiun\n",
    "station_dataframes = {}\n",
    "\n",
    "# Memuat semua data untuk setiap stasiun ke dalam dataframe\n",
    "for file in csv_files:\n",
    "    base_name = os.path.basename(file)\n",
    "        \n",
    "    parts = base_name.split('_')\n",
    "    if len(parts) > 3:\n",
    "        station = parts[2] # nama stasiun\n",
    "        \n",
    "        df = pd.read_csv(file)\n",
    "        station_dataframes[station] = df\n",
    "\n",
    "# tes salah satu stasiun\n",
    "station_dataframes['Aotizhongxin'].head()"
   ]
  },
  {
   "cell_type": "markdown",
   "metadata": {
    "id": "MMi6xGaDkbCi"
   },
   "source": [
    "**Insight:**\n",
    "- Semua file CSV memiliki struktur yang seragam yang menunjukkan bahwa data dikumpulkan dengan format yang standar. Hal ini akan memudahkan langkah cleaning data dan analisis selanjutnya. \n",
    "- File CSV yang berbeda per stasiun yang kemudian dikelompokkan menggunakan dictionary memungkinkan analisis per stasiun secara terpisah maupun perbandingan antar stasiun. \n",
    "- Melihat kolom year, month, day, dan hour, kita bisa mengidentifikasi bahwa data merupakan data time series. Ini membuka peluang untuk analisis tren temporal (misalnya, tren harian, bulanan, atau tahunan).\n",
    "- Struktur data yang sudah terpisah per stasiun memudahkan penerapan teknik analisis lanjutan seperti perbandingan kualitas udara antar stasiun, analisis geospasial, ataupun clustering berdasarkan pola-pola tertentu."
   ]
  },
  {
   "cell_type": "markdown",
   "metadata": {
    "id": "FHSiqaZp8DC1"
   },
   "source": [
    "### Assessing Data"
   ]
  },
  {
   "cell_type": "code",
   "execution_count": null,
   "metadata": {
    "id": "ax-3tEjc9Cj1"
   },
   "outputs": [],
   "source": [
    "def assess(df):\n",
    "    results = {}\n",
    "    \n",
    "    # 1. Bentuk DataFrame\n",
    "    results[\"shape\"] = df.shape\n",
    "    \n",
    "    # 2. Missing Values\n",
    "    results[\"missing_values\"] = df.isnull().sum().to_dict()\n",
    "    \n",
    "    # 3. Nilai Invalid (cek apakah bisa dikonversi ke float)\n",
    "    numeric_cols = [\"PM2.5\", \"PM10\", \"SO2\", \"NO2\", \"CO\", \"O3\", \"TEMP\", \"PRES\", \"DEWP\", \"RAIN\", \"WSPM\"]\n",
    "    invalid_values = {}\n",
    "    for col in numeric_cols:\n",
    "        count = 0\n",
    "        if col in df.columns:\n",
    "            for val in df[col]:\n",
    "                if pd.notnull(val):\n",
    "                    try:\n",
    "                        float(val)\n",
    "                    except Exception:\n",
    "                        count += 1\n",
    "        invalid_values[col] = count\n",
    "    results[\"invalid_values\"] = invalid_values\n",
    "    \n",
    "    # 4. Baris duplikat\n",
    "    results[\"duplicate_rows\"] = int(df.duplicated().sum())\n",
    "    \n",
    "    # 5. Nilai tidak akurat (nilai negatif untuk kolom yang seharusnya non-negatif)\n",
    "    non_negative_cols = [\"PM2.5\", \"PM10\", \"SO2\", \"NO2\", \"CO\", \"O3\", \"RAIN\", \"WSPM\"]\n",
    "    inaccurate_values = {}\n",
    "    for col in non_negative_cols:\n",
    "        count = 0\n",
    "        if col in df.columns:\n",
    "            for val in df[col]:\n",
    "                try:\n",
    "                    if float(val) < 0:\n",
    "                        count += 1\n",
    "                except Exception:\n",
    "                    continue\n",
    "        inaccurate_values[col] = count\n",
    "    results[\"inaccurate_values\"] = inaccurate_values\n",
    "    \n",
    "    # 6. Nilai tidak konsisten\n",
    "    inconsistent_values = {}\n",
    "    for col in df.columns:\n",
    "        if df[col].dtype == 'O':\n",
    "            inconsistent_values[col] = df[col].dropna().unique().tolist()\n",
    "    results[\"inconsistent_values\"] = inconsistent_values\n",
    "    \n",
    "    # 7. Deteksi Outlier dengan metode IQR \n",
    "    outliers = {}\n",
    "    numeric_columns = df.select_dtypes(include=[np.number]).columns\n",
    "    for col in numeric_columns:\n",
    "        if df[col].nunique() <= 1:\n",
    "            outliers[col] = 0\n",
    "            continue\n",
    "        Q1 = df[col].quantile(0.25)\n",
    "        Q3 = df[col].quantile(0.75)\n",
    "        IQR = Q3 - Q1\n",
    "        lower_bound = Q1 - 1.5 * IQR\n",
    "        upper_bound = Q3 + 1.5 * IQR\n",
    "        outliers[col] = sum(1 for x in df[col] if x < lower_bound or x > upper_bound)\n",
    "    results[\"outliers\"] = outliers\n",
    "    \n",
    "    return results\n",
    "\n",
    "assessment_results = {}\n",
    "for station, df in station_dataframes.items():\n",
    "    assessment_results[station] = assess(df)\n",
    "\n",
    "# Ringkasan khusus untuk PM2.5\n",
    "summary_data = []\n",
    "for station, res in assessment_results.items():\n",
    "    summary_data.append({\n",
    "       \"Station\": station,\n",
    "       \"Rows\": res[\"shape\"][0],\n",
    "       \"Missing_PM2.5\": res[\"missing_values\"].get(\"PM2.5\", 0),\n",
    "       \"Invalid_PM2.5\": res[\"invalid_values\"].get(\"PM2.5\", 0),\n",
    "       \"Duplicate_Rows\": res[\"duplicate_rows\"],\n",
    "       \"Outliers_PM2.5\": res[\"outliers\"].get(\"PM2.5\", 0)\n",
    "    })\n",
    "\n",
    "summary_df = pd.DataFrame(summary_data)\n",
    "print(\"Ringkasan assessment untuk PM2.5 per stasiun:\")\n",
    "print(summary_df.to_string())\n",
    "\n",
    "# Visualisasi Missing PM2.5 per stasiun\n",
    "plt.figure(figsize=(10, 6))\n",
    "plt.bar(summary_df[\"Station\"], summary_df[\"Missing_PM2.5\"], color=\"skyblue\")\n",
    "plt.xlabel(\"Stasiun\")\n",
    "plt.ylabel(\"Jumlah Missing PM2.5\")\n",
    "plt.title(\"Missing PM2.5 per Stasiun\")\n",
    "plt.xticks(rotation=45)\n",
    "plt.tight_layout()\n",
    "plt.show()\n",
    "\n",
    "# Visualisasi Outlier PM2.5 per stasiun\n",
    "plt.figure(figsize=(10, 6))\n",
    "plt.bar(summary_df[\"Station\"], summary_df[\"Outliers_PM2.5\"], color=\"salmon\")\n",
    "plt.xlabel(\"Stasiun\")\n",
    "plt.ylabel(\"Jumlah Outlier PM2.5\")\n",
    "plt.title(\"Outlier PM2.5 per Stasiun\")\n",
    "plt.xticks(rotation=45)\n",
    "plt.tight_layout()\n",
    "plt.show()\n"
   ]
  },
  {
   "cell_type": "markdown",
   "metadata": {
    "id": "7dtxhAPrkhPL"
   },
   "source": [
    "**Insight:**\n",
    "- Semua file memiliki jumlah baris dan kolom yang sama (35.064 baris dan 18 kolom), yang menunjukkan bahwa data dikumpulkan dalam periode dan struktur yang konsisten antar stasiun.\n",
    "- Jumlah nilai hilang pada kolom, terutama untuk PM2.5, bervariasi antar stasiun. Misalnya, ada stasiun yang memiliki missing value PM2.5 yang tinggi (seperti Shunyi dengan 913 nilai hilang) dibandingkan dengan stasiun lain (misalnya Wanliu dengan 382 nilai hilang). Ini mengindikasikan adanya variasi dalam kualitas pengumpulan data atau masalah pencatatan di masing-masing lokasi.\n",
    "- Tidak ditemukan baris duplikat dan invalid pada data.\n",
    "- Deteksi outlier menggunakan metode IQR menunjukkan adanya jumlah pencilan yang cukup tinggi pada kolom PM2.5 (misalnya 1626 outlier di Huairou)."
   ]
  },
  {
   "cell_type": "markdown",
   "metadata": {
    "id": "EhN5R4hr8DC1"
   },
   "source": [
    "### Cleaning Data"
   ]
  },
  {
   "cell_type": "code",
   "execution_count": null,
   "metadata": {
    "id": "jVnYpprE9Evz"
   },
   "outputs": [],
   "source": [
    "def impute_outliers(s, lower_quantile=0.25, upper_quantile=0.75, k=1.5):\n",
    "    # Hitung Q1, Q3, dan IQR dari seri s\n",
    "    Q1 = s.quantile(lower_quantile)\n",
    "    Q3 = s.quantile(upper_quantile)\n",
    "    IQR = Q3 - Q1\n",
    "    lower_bound = Q1 - k * IQR\n",
    "    upper_bound = Q3 + k * IQR\n",
    "    median_val = s.median()\n",
    "    \n",
    "    # Buat salinan seri untuk diimputasi\n",
    "    s_imputed = s.copy()\n",
    "    s_imputed[s < lower_bound] = median_val\n",
    "    s_imputed[s > upper_bound] = median_val\n",
    "    return s_imputed\n",
    "\n",
    "cleaned_dataframes = {}\n",
    "stats_summary = []\n",
    "\n",
    "for station, df in station_dataframes.items():\n",
    "    # Menggabungkan kolom tanggal menjadi kolom datetime\n",
    "    df['datetime'] = pd.to_datetime(df[['year', 'month', 'day', 'hour']])\n",
    "    df.drop(['year', 'month', 'day', 'hour'], axis=1, inplace=True)\n",
    "    # Memindahkan kolom datetime ke posisi kedua\n",
    "    datetime_col = df.pop('datetime')\n",
    "    df.insert(1, 'datetime', datetime_col)\n",
    "    \n",
    "    # Pastikan kolom PM2.5 berupa numerik\n",
    "    df['PM2.5'] = pd.to_numeric(df['PM2.5'], errors='coerce')\n",
    "    \n",
    "    # Imputasi missing value untuk PM2.5 dengan interpolasi linier (berdasarkan urutan waktu)\n",
    "    df.sort_values('datetime', inplace=True)\n",
    "    df['PM2.5_clean'] = df['PM2.5'].interpolate(method='linear')\n",
    "    \n",
    "    # Imputasi outlier: ganti nilai outlier di PM2.5_clean dengan median\n",
    "    df['PM2.5_imputed'] = impute_outliers(df['PM2.5_clean'])\n",
    "    \n",
    "    cleaned_dataframes[station] = df\n",
    "    \n",
    "    # Statistik ringkasan untuk PM2.5\n",
    "    original_stats = df['PM2.5'].describe()\n",
    "    clean_stats = df['PM2.5_clean'].describe()\n",
    "    imputed_stats = df['PM2.5_imputed'].describe()\n",
    "    \n",
    "    stats_summary.append({\n",
    "        \"Station\": station,\n",
    "        \"Original_Mean\": original_stats.get('mean', np.nan),\n",
    "        \"Original_Median\": original_stats.get('50%', np.nan),\n",
    "        \"Clean_Mean\": clean_stats.get('mean', np.nan),\n",
    "        \"Clean_Median\": clean_stats.get('50%', np.nan),\n",
    "        \"Imputed_Mean\": imputed_stats.get('mean', np.nan),\n",
    "        \"Imputed_Median\": imputed_stats.get('50%', np.nan)\n",
    "    })\n",
    "\n",
    "stats_df = pd.DataFrame(stats_summary)\n",
    "print(\"Summary Statistik PM2.5 per stasiun:\")\n",
    "print(stats_df)\n",
    "\n",
    "# Time Series dan Boxplot untuk stasiun Aotizhongxin sebagai contoh\n",
    "station = \"Aotizhongxin\"\n",
    "print(\"Keys di cleaned_dataframes:\", list(cleaned_dataframes.keys()))\n",
    "df_plot = cleaned_dataframes[station]\n",
    "\n",
    "plt.figure(figsize=(12,6))\n",
    "plt.plot(df_plot['datetime'], df_plot['PM2.5'], label='Original', alpha=0.5)\n",
    "plt.plot(df_plot['datetime'], df_plot['PM2.5_clean'], label='Interpolated', alpha=0.8)\n",
    "plt.plot(df_plot['datetime'], df_plot['PM2.5_imputed'], label='Outlier-Imputed', alpha=0.8)\n",
    "plt.xlabel(\"Datetime\")\n",
    "plt.ylabel(\"PM2.5\")\n",
    "plt.title(f\"Time Series PM2.5 - {station}\")\n",
    "plt.legend()\n",
    "plt.xticks(rotation=45)\n",
    "plt.tight_layout()\n",
    "plt.show()\n",
    "\n",
    "plt.figure(figsize=(12,6))\n",
    "plt.boxplot([df_plot['PM2.5'].dropna(), df_plot['PM2.5_imputed'].dropna()], labels=[\"Original\", \"Outlier-Imputed\"])\n",
    "plt.title(f\"Boxplot PM2.5 - {station}\")\n",
    "plt.ylabel(\"PM2.5\")\n",
    "plt.tight_layout()\n",
    "plt.show()\n"
   ]
  },
  {
   "cell_type": "markdown",
   "metadata": {
    "id": "Q_5ejIqckiSP"
   },
   "source": [
    "**Insight:**\n",
    "- Dengan menggabungkan kolom tanggal (year, month, day, hour) menjadi satu kolom datetime dan mengurutkan data berdasarkan waktu, kita mendapatkan deret waktu yang lebih konsisten. Hal ini memudahkan analisis tren PM2.5 secara time series.\n",
    "- Penggunaan interpolasi linier untuk mengisi missing data membuat data PM2.5 menjadi lebih kontinu. Jika missing data tidak diisi, bisa terjadi celah yang mengganggu analisis tren. Dengan imputasi, distribusi data menjadi lebih lengkap.\n",
    "- Dari statistik awal, nilai rata-rata (mean) PM2.5 cenderung lebih tinggi karena adanya nilai ekstrim. Setelah dilakukan imputasi outlier dengan mengganti nilai ekstrim menggunakan median, nilai mean menurun secara signifikan, sedangkan median tetap stabil. Ini menunjukkan bahwa outlier sebelumnya memberikan bias pada perhitungan rata-rata.\n",
    "- Setelah proses cleaning, data PM2.5 menjadi lebih homogen dan siap untuk analisis tren serta perbandingan kualitas udara antar stasiun. Data yang sudah dibersihkan memberikan dasar yang lebih solid untuk menjawab pertanyaan bisnis, misalnya apakah terdapat tren penurunan atau kenaikan konsentrasi PM2.5 dan perbedaan antar stasiun.\n",
    "\n"
   ]
  },
  {
   "cell_type": "markdown",
   "metadata": {
    "id": "gp-Y6wU38DC1"
   },
   "source": [
    "## Exploratory Data Analysis (EDA)"
   ]
  },
  {
   "cell_type": "markdown",
   "metadata": {
    "id": "MW7WF2kr8DC1"
   },
   "source": [
    "### Explore ..."
   ]
  },
  {
   "cell_type": "code",
   "execution_count": null,
   "metadata": {
    "id": "e9CQCZjk8DC2"
   },
   "outputs": [],
   "source": [
    "\n",
    "# 1. Time Series Plot untuk salah satu stasiun (contoh: Aotizhongxin)\n",
    "if \"Aotizhongxin\" in cleaned_dataframes:\n",
    "    df_aotizhongxin = cleaned_dataframes[\"Aotizhongxin\"]\n",
    "    plt.figure(figsize=(12,6))\n",
    "    plt.plot(df_aotizhongxin['datetime'], df_aotizhongxin['PM2.5_imputed'], label=\"PM2.5 (Imputed)\", color=\"blue\")\n",
    "    plt.xlabel(\"Datetime\")\n",
    "    plt.ylabel(\"PM2.5\")\n",
    "    plt.title(\"Time Series PM2.5 (Imputed) - Aotizhongxin\")\n",
    "    plt.xticks(rotation=45)\n",
    "    plt.legend()\n",
    "    plt.tight_layout()\n",
    "    plt.show()\n",
    "else:\n",
    "    print(\"Stasiun Aotizhongxin tidak ditemukan.\")\n",
    "\n",
    "# 2. Agregasi Bulanan untuk stasiun Aotizhongxin\n",
    "if \"Aotizhongxin\" in cleaned_dataframes:\n",
    "    df_aotizhongxin['month'] = df_aotizhongxin['datetime'].dt.month\n",
    "    monthly_avg = df_aotizhongxin.groupby('month')['PM2.5_imputed'].mean()\n",
    "    plt.figure(figsize=(10,6))\n",
    "    monthly_avg.plot(kind='bar', color='skyblue')\n",
    "    plt.xlabel(\"Bulan\")\n",
    "    plt.ylabel(\"Rata-rata PM2.5 (Imputed)\")\n",
    "    plt.title(\"Rata-rata PM2.5 Bulanan - Aotizhongxin\")\n",
    "    plt.xticks(rotation=0)\n",
    "    plt.tight_layout()\n",
    "    plt.show()\n",
    "\n",
    "# 3. Perbandingan PM2.5 antar Stasiun (Boxplot)\n",
    "all_data = []\n",
    "for station, df in cleaned_dataframes.items():\n",
    "    temp = df[['datetime', 'PM2.5_imputed']].copy()\n",
    "    temp['Station'] = station\n",
    "    all_data.append(temp)\n",
    "all_data_df = pd.concat(all_data)\n",
    "plt.figure(figsize=(12,6))\n",
    "sns.boxplot(x=\"Station\", y=\"PM2.5_imputed\", data=all_data_df)\n",
    "plt.xlabel(\"Stasiun\")\n",
    "plt.ylabel(\"PM2.5 (Imputed)\")\n",
    "plt.title(\"Perbandingan Distribusi PM2.5 antar Stasiun\")\n",
    "plt.xticks(rotation=45)\n",
    "plt.tight_layout()\n",
    "plt.show()\n",
    "\n",
    "# 4. Korelasi Antar Parameter untuk stasiun Aotizhongxin\n",
    "if \"Aotizhongxin\" in cleaned_dataframes:\n",
    "    numeric_cols = [\"PM2.5_imputed\", \"PM10\", \"SO2\", \"NO2\", \"CO\", \"O3\", \"TEMP\", \"PRES\", \"DEWP\", \"RAIN\", \"WSPM\"]\n",
    "    corr_matrix = df_aotizhongxin[numeric_cols].corr()\n",
    "    plt.figure(figsize=(10,8))\n",
    "    sns.heatmap(corr_matrix, annot=True, cmap=\"coolwarm\", fmt=\".2f\")\n",
    "    plt.title(\"Matriks Korelasi - Aotizhongxin\")\n",
    "    plt.tight_layout()\n",
    "    plt.show()\n",
    "\n",
    "# 5. Distribusi Data PM2.5 untuk stasiun Aotizhongxin\n",
    "if \"Aotizhongxin\" in cleaned_dataframes:\n",
    "    plt.figure(figsize=(10,6))\n",
    "    sns.histplot(df_aotizhongxin['PM2.5_imputed'], bins=30, kde=True, color=\"green\")\n",
    "    plt.xlabel(\"PM2.5 (Imputed)\")\n",
    "    plt.title(\"Distribusi PM2.5 (Imputed) - Aotizhongxin\")\n",
    "    plt.tight_layout()\n",
    "    plt.show()"
   ]
  },
  {
   "cell_type": "markdown",
   "metadata": {
    "id": "th_Lzl2Fkj9O"
   },
   "source": [
    "**Insight:**\n",
    "- Time series plot menunjukkan fluktuasi konsentrasi PM2.5 harian dan jangka panjang\n",
    "- Terdapat pola musiman yang terlihat dari agregasi bulanan, dengan bulan-bulan tertentu yang memiliki rata-rata PM2.5 lebih tinggi\n",
    "- Boxplot menunjukkan variasi nilai median dan rentang PM2.5 di berbagai stasiun. Perbedaan ini kemungkinan disebabkan oleh faktor lokal (aktivitas industri, volume lalu lintas, kondisi geografis)\n",
    "- Proses imputasi berhasil mengurangi outlier ekstrem, terlihat dari penurunan nilai mean sedangkan median relatif stabil\n",
    "- Distribusi data menjadi lebih representatif setelah cleaning\n",
    "- Matriks korelasi mengungkap hubungan antara PM2.5 dengan parameter lain (PM10, NO2, CO, O3, dan parameter meteorologi)\n",
    "- Korelasi tinggi dengan parameter tertentu mengindikasikan kemungkinan sumber polusi yang serupa\n",
    "- Analisis histogram dan density plot memberikan gambaran sebaran data PM2.5 dan kemungkinan skewness yang dapat mempengaruhi analisis statistik lanjutan"
   ]
  },
  {
   "cell_type": "markdown",
   "metadata": {
    "id": "zsyZjqak8DC2"
   },
   "source": [
    "## Visualization & Explanatory Analysis"
   ]
  },
  {
   "cell_type": "markdown",
   "metadata": {
    "id": "HZxOiQ6n8DC2"
   },
   "source": [
    "### Pertanyaan 1:"
   ]
  },
  {
   "cell_type": "code",
   "execution_count": null,
   "metadata": {
    "id": "1swJUdAD8DC2"
   },
   "outputs": [],
   "source": [
    "df_aotizhongxin = cleaned_dataframes[\"Aotizhongxin\"]\n",
    "\n",
    "# Time Series Plot\n",
    "plt.figure(figsize=(12,6))\n",
    "plt.plot(df_aotizhongxin['datetime'], df_aotizhongxin['PM2.5_imputed'], label=\"PM2.5 (Imputed)\", color=\"blue\")\n",
    "plt.xlabel(\"Datetime\")\n",
    "plt.ylabel(\"PM2.5\")\n",
    "plt.title(\"Tren Konsentrasi PM2.5 - Aotizhongxin\")\n",
    "plt.xticks(rotation=45)\n",
    "plt.legend()\n",
    "plt.tight_layout()\n",
    "plt.show()\n",
    "\n",
    "df_aotizhongxin['month'] = df_aotizhongxin['datetime'].dt.month\n",
    "monthly_avg = df_aotizhongxin.groupby('month')['PM2.5_imputed'].mean()\n",
    "plt.figure(figsize=(10,6))\n",
    "monthly_avg.plot(kind='bar', color='skyblue')\n",
    "plt.xlabel(\"Bulan\")\n",
    "plt.ylabel(\"Rata-rata PM2.5\")\n",
    "plt.title(\"Rata-rata PM2.5 Bulanan - Aotizhongxin\")\n",
    "plt.xticks(rotation=0)\n",
    "plt.tight_layout()\n",
    "plt.show()\n"
   ]
  },
  {
   "cell_type": "markdown",
   "metadata": {},
   "source": [
    "1. Tren Konsentrasi PM2.5 dari Waktu ke Waktu (Per Stasiun)\n",
    "- Time Series Plot:\n",
    "  Dengan mengagregasi data berdasarkan bulan atau tahun, kita dapat melihat rata-rata PM2.5 dalam periode yang lebih panjang. Bar chart atau line plot agregat (misalnya rata-rata bulanan) akan menyoroti pola musiman dan tren jangka panjang.\n",
    "  Interpretasi: Jika rata-rata PM2.5 lebih tinggi pada bulan tertentu, hal itu bisa mengindikasikan pengaruh musiman (misalnya kondisi cuaca, pembakaran musiman, dll.).\n",
    "- Agregasi Bulanan atau Tahunan: Gabungkan data PM2.5 (yang telah diimputasi) dari semua stasiun ke dalam satu DataFrame, lalu buat boxplot untuk masing-masing stasiun.\n",
    "Interpretasi: Boxplot akan memperlihatkan perbedaan distribusi, nilai median, dan rentang antar stasiun. Jika terdapat stasiun yang consistently menunjukkan nilai yang lebih tinggi, hal ini mengindikasikan perbedaan kualitas udara antar lokasi.\n"
   ]
  },
  {
   "cell_type": "markdown",
   "metadata": {},
   "source": [
    "**Insight**\n",
    "- Dari grafik time series, kita bisa melihat kapan terjadi lonjakan atau penurunan nilai PM2.5.\n",
    "- Pola agregasi bulanan dapat mengungkapkan musim dengan konsentrasi polusi tertinggi dan memberikan dasar untuk perencanaan kebijakan (misalnya, penerapan pembatasan lalu lintas pada musim dengan polusi tinggi)."
   ]
  },
  {
   "cell_type": "markdown",
   "metadata": {
    "id": "DgHI7CiU8DC2"
   },
   "source": [
    "### Pertanyaan 2:"
   ]
  },
  {
   "cell_type": "code",
   "execution_count": null,
   "metadata": {
    "id": "Go0lCsvO8DC2"
   },
   "outputs": [],
   "source": [
    "all_data = []\n",
    "for station, df in cleaned_dataframes.items():\n",
    "    temp_df = df[['datetime', 'PM2.5_imputed']].copy()\n",
    "    temp_df['Station'] = station\n",
    "    all_data.append(temp_df)\n",
    "all_data_df = pd.concat(all_data)\n",
    "\n",
    "plt.figure(figsize=(12,6))\n",
    "sns.boxplot(x='Station', y='PM2.5_imputed', data=all_data_df)\n",
    "plt.xlabel(\"Stasiun\")\n",
    "plt.ylabel(\"PM2.5 (Imputed)\")\n",
    "plt.title(\"Perbandingan Distribusi PM2.5 Antar Stasiun\")\n",
    "plt.xticks(rotation=45)\n",
    "plt.tight_layout()\n",
    "plt.show()\n",
    "\n",
    "if \"Aotizhongxin\" in cleaned_dataframes:\n",
    "    df_aotizhongxin = cleaned_dataframes[\"Aotizhongxin\"]\n",
    "    numeric_cols = [\"PM2.5_imputed\", \"PM10\", \"SO2\", \"NO2\", \"CO\", \"O3\", \"TEMP\", \"PRES\", \"DEWP\", \"RAIN\", \"WSPM\"]\n",
    "    corr_matrix = df_aotizhongxin[numeric_cols].corr()\n",
    "    plt.figure(figsize=(10,8))\n",
    "    sns.heatmap(corr_matrix, annot=True, cmap=\"coolwarm\", fmt=\".2f\")\n",
    "    plt.title(\"Matriks Korelasi - Aotizhongxin\")\n",
    "    plt.tight_layout()\n",
    "    plt.show()\n"
   ]
  },
  {
   "cell_type": "markdown",
   "metadata": {
    "id": "_0-36BDLklRg"
   },
   "source": [
    "2. Perbedaan Signifikan dalam Kualitas Udara Antar Stasiun dan Faktor Penyebabnya\n",
    "- Boxplot Antar Stasiun:\n",
    "Gabungkan data PM2.5 (yang telah diimputasi) dari semua stasiun ke dalam satu DataFrame, lalu buat boxplot untuk masing-masing stasiun.\n",
    "Interpretasi: Boxplot akan memperlihatkan perbedaan distribusi, nilai median, dan rentang antar stasiun. Jika terdapat stasiun yang consistently menunjukkan nilai yang lebih tinggi, hal ini mengindikasikan perbedaan kualitas udara antar lokasi.\n",
    "- Heatmap Korelasi Parameter:\n",
    "Buat matriks korelasi untuk parameter-parameter yang relevan (misalnya, PM2.5, PM10, NO2, CO, O3, serta parameter meteorologi seperti suhu, tekanan, dan kecepatan angin) untuk satu atau beberapa stasiun.\n",
    "Interpretasi: Hubungan antar parameter dapat mengindikasikan faktor penyebab. Misalnya, korelasi yang tinggi antara PM2.5 dan PM10 bisa mengindikasikan sumber polusi yang sama. Begitu pula dengan korelasi antara PM2.5 dan parameter meteorologi yang bisa menunjukkan kondisi cuaca yang mempengaruhi penyebaran polutan.\n",
    "- Violin Plot atau Bar Chart Rata-Rata:\n",
    "Selain boxplot, kita juga dapat membuat grafik rata-rata atau violin plot untuk melihat distribusi dan variabilitas nilai PM2.5 antar stasiun."
   ]
  },
  {
   "cell_type": "markdown",
   "metadata": {},
   "source": [
    "**Insight**\n",
    "- Perbedaan Kualitas Udara:\n",
    "Boxplot menunjukkan apakah stasiun tertentu (misalnya, stasiun dengan median PM2.5 yang lebih tinggi) memiliki kualitas udara yang lebih buruk dibandingkan stasiun lainnya.\n",
    "- Potensi Faktor Penyebab:\n",
    "Heatmap korelasi memberikan gambaran tentang bagaimana PM2.5 berhubungan dengan parameter lain. Jika PM2.5 berkorelasi tinggi dengan PM10, NO2, atau CO, mungkin sumber polusi yang serupa (misalnya, kendaraan bermotor atau aktivitas industri) berperan besar. Korelasi dengan parameter meteorologi juga dapat mengungkap apakah kondisi cuaca tertentu berpengaruh terhadap penyebaran polutan."
   ]
  },
  {
   "cell_type": "markdown",
   "metadata": {
    "id": "9y4VUsmcYNZ5"
   },
   "source": [
    "## Analisis Lanjutan (Opsional)"
   ]
  },
  {
   "cell_type": "code",
   "execution_count": null,
   "metadata": {
    "id": "iWhnzsJGYUCO"
   },
   "outputs": [],
   "source": []
  },
  {
   "cell_type": "markdown",
   "metadata": {
    "id": "_WeHlCeX8DC2"
   },
   "source": [
    "## Conclusion"
   ]
  },
  {
   "cell_type": "markdown",
   "metadata": {
    "id": "ZTcyR48Y8DC2"
   },
   "source": [
    "- Conclution pertanyaan 1\n",
    "- Conclution pertanyaan 2"
   ]
  }
 ],
 "metadata": {
  "colab": {
   "provenance": []
  },
  "kernelspec": {
   "display_name": "base",
   "language": "python",
   "name": "python3"
  },
  "language_info": {
   "codemirror_mode": {
    "name": "ipython",
    "version": 3
   },
   "file_extension": ".py",
   "mimetype": "text/x-python",
   "name": "python",
   "nbconvert_exporter": "python",
   "pygments_lexer": "ipython3",
   "version": "3.12.7"
  }
 },
 "nbformat": 4,
 "nbformat_minor": 0
}
