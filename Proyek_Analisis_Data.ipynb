{
 "cells": [
  {
   "cell_type": "markdown",
   "metadata": {
    "id": "H9wADwK78DCz"
   },
   "source": [
    "# Proyek Analisis Data: Air-quality-dataset\n",
    "- **Nama:** Izzuddin Ahmad Afif\n",
    "- **Email:** izzuddinafif@gmail.com\n",
    "- **ID Dicoding:** izzuddinafif"
   ]
  },
  {
   "cell_type": "markdown",
   "metadata": {
    "id": "eE0raob58DC0"
   },
   "source": [
    "## Menentukan Pertanyaan Bisnis"
   ]
  },
  {
   "cell_type": "markdown",
   "metadata": {
    "id": "GmQeQ5YF8DC0"
   },
   "source": [
    "\n",
    "## Menentukan Pertanyaan Bisnis\n",
    "\n",
    "- Bagaimana tren perubahan konsentrasi PM2.5 di masing-masing stasiun selama periode tertentu, dan faktor apa yang memengaruhinya?\n",
    "- Faktor lingkungan atau aktivitas manusia apa yang memiliki korelasi signifikan dengan perbedaan kualitas udara antar stasiun?\n"
   ]
  },
  {
   "cell_type": "markdown",
   "metadata": {
    "id": "H-z4QGlO8DC1"
   },
   "source": [
    "## Import Semua Packages/Library yang Digunakan"
   ]
  },
  {
   "cell_type": "code",
   "execution_count": null,
   "metadata": {
    "id": "FVYwaObI8DC1"
   },
   "outputs": [],
   "source": [
    "import pandas as pd\n",
    "import numpy as np\n",
    "import matplotlib.pyplot as plt\n",
    "import seaborn as sns\n",
    "import streamlit as st  # Jika diperlukan untuk deployment\n",
    "import os\n",
    "import glob\n",
    "\n",
    "# Atur gaya plot secara default\n",
    "plt.style.use('default')\n"
   ]
  },
  {
   "cell_type": "markdown",
   "metadata": {
    "id": "h_Sh51Xy8DC1"
   },
   "source": [
    "## Data Wrangling"
   ]
  },
  {
   "cell_type": "markdown",
   "metadata": {
    "id": "sXU2GBYu8DC1"
   },
   "source": [
    "### Gathering Data"
   ]
  },
  {
   "cell_type": "code",
   "execution_count": null,
   "metadata": {
    "id": "zjCBk1BI8DC1"
   },
   "outputs": [],
   "source": [
    "# Load semua file CSV dalam folder 'csv'\n",
    "folder_path = 'csv'\n",
    "csv_files = glob.glob(os.path.join(folder_path, '*.csv'))\n",
    "\n",
    "# Dictionary untuk menampung data tiap stasiun\n",
    "station_dataframes = {}\n",
    "\n",
    "# Memuat data dari setiap file CSV\n",
    "for file in csv_files:\n",
    "    base_name = os.path.basename(file)\n",
    "    parts = base_name.split('_')\n",
    "    if len(parts) > 3:\n",
    "        station = parts[2]  # Nama stasiun\n",
    "        df = pd.read_csv(file)\n",
    "        station_dataframes[station] = df\n",
    "\n",
    "# Tampilkan contoh data (hanya menampilkan 5 baris) dari satu stasiun sebagai sample\n",
    "sample_station = list(station_dataframes.keys())[0] if station_dataframes else None\n",
    "if sample_station:\n",
    "    print(f\"Data awal untuk stasiun {sample_station}:\")\n",
    "    display(station_dataframes[sample_station].head())\n",
    "else:\n",
    "    print(\"Tidak ditemukan file CSV dalam folder.\")\n"
   ]
  },
  {
   "cell_type": "markdown",
   "metadata": {
    "id": "MMi6xGaDkbCi"
   },
   "source": [
    "**Insight:**\n",
    "- Semua file CSV memiliki struktur yang seragam yang menunjukkan bahwa data dikumpulkan dengan format yang standar. Hal ini akan memudahkan langkah cleaning data dan analisis selanjutnya. \n",
    "- File CSV yang berbeda per stasiun yang kemudian dikelompokkan menggunakan dictionary memungkinkan analisis per stasiun secara terpisah maupun perbandingan antar stasiun. \n",
    "- Melihat kolom year, month, day, dan hour, kita bisa mengidentifikasi bahwa data merupakan data time series. Ini membuka peluang untuk analisis tren temporal (misalnya, tren harian, bulanan, atau tahunan).\n",
    "- Struktur data yang sudah terpisah per stasiun memudahkan penerapan teknik analisis lanjutan seperti perbandingan kualitas udara antar stasiun, analisis geospasial, ataupun clustering berdasarkan pola-pola tertentu."
   ]
  },
  {
   "cell_type": "markdown",
   "metadata": {
    "id": "FHSiqaZp8DC1"
   },
   "source": [
    "### Assessing Data"
   ]
  },
  {
   "cell_type": "code",
   "execution_count": null,
   "metadata": {
    "id": "ax-3tEjc9Cj1"
   },
   "outputs": [],
   "source": [
    "def assess(df):\n",
    "    results = {}\n",
    "    \n",
    "    # 1. Bentuk DataFrame\n",
    "    results[\"shape\"] = df.shape\n",
    "    \n",
    "    # 2. Missing Values\n",
    "    results[\"missing_values\"] = df.isnull().sum().to_dict()\n",
    "    \n",
    "    # 3. Nilai Invalid (cek apakah bisa dikonversi ke float)\n",
    "    numeric_cols = [\"PM2.5\", \"PM10\", \"SO2\", \"NO2\", \"CO\", \"O3\", \"TEMP\", \"PRES\", \"DEWP\", \"RAIN\", \"WSPM\"]\n",
    "    invalid_values = {}\n",
    "    for col in numeric_cols:\n",
    "        count = 0\n",
    "        if col in df.columns:\n",
    "            for val in df[col]:\n",
    "                if pd.notnull(val):\n",
    "                    try:\n",
    "                        float(val)\n",
    "                    except Exception:\n",
    "                        count += 1\n",
    "        invalid_values[col] = count\n",
    "    results[\"invalid_values\"] = invalid_values\n",
    "    \n",
    "    # 4. Baris duplikat\n",
    "    results[\"duplicate_rows\"] = int(df.duplicated().sum())\n",
    "    \n",
    "    # 5. Nilai tidak akurat (nilai negatif untuk kolom yang seharusnya non-negatif)\n",
    "    non_negative_cols = [\"PM2.5\", \"PM10\", \"SO2\", \"NO2\", \"CO\", \"O3\", \"RAIN\", \"WSPM\"]\n",
    "    inaccurate_values = {}\n",
    "    for col in non_negative_cols:\n",
    "        count = 0\n",
    "        if col in df.columns:\n",
    "            for val in df[col]:\n",
    "                try:\n",
    "                    if float(val) < 0:\n",
    "                        count += 1\n",
    "                except Exception:\n",
    "                    continue\n",
    "        inaccurate_values[col] = count\n",
    "    results[\"inaccurate_values\"] = inaccurate_values\n",
    "    \n",
    "    # 6. Nilai tidak konsisten (untuk kolom non-numerik)\n",
    "    inconsistent_values = {}\n",
    "    for col in df.columns:\n",
    "        if df[col].dtype == 'O':\n",
    "            inconsistent_values[col] = df[col].dropna().unique().tolist()\n",
    "    results[\"inconsistent_values\"] = inconsistent_values\n",
    "    \n",
    "    # 7. Deteksi Outlier dengan metode IQR \n",
    "    outliers = {}\n",
    "    numeric_columns = df.select_dtypes(include=[np.number]).columns\n",
    "    for col in numeric_columns:\n",
    "        if df[col].nunique() <= 1:\n",
    "            outliers[col] = 0\n",
    "            continue\n",
    "        Q1 = df[col].quantile(0.25)\n",
    "        Q3 = df[col].quantile(0.75)\n",
    "        IQR = Q3 - Q1\n",
    "        lower_bound = Q1 - 1.5 * IQR\n",
    "        upper_bound = Q3 + 1.5 * IQR\n",
    "        outliers[col] = sum(1 for x in df[col] if x < lower_bound or x > upper_bound)\n",
    "    results[\"outliers\"] = outliers\n",
    "    \n",
    "    return results\n",
    "\n",
    "# Lakukan assessment untuk setiap stasiun dan kumpulkan ringkasan khusus untuk PM2.5\n",
    "assessment_results = {}\n",
    "summary_data = []\n",
    "\n",
    "for station, df in station_dataframes.items():\n",
    "    res = assess(df)\n",
    "    assessment_results[station] = res\n",
    "    summary_data.append({\n",
    "       \"Station\": station,\n",
    "       \"Rows\": res[\"shape\"][0],\n",
    "       \"Missing_PM2.5\": res[\"missing_values\"].get(\"PM2.5\", 0),\n",
    "       \"Invalid_PM2.5\": res[\"invalid_values\"].get(\"PM2.5\", 0),\n",
    "       \"Duplicate_Rows\": res[\"duplicate_rows\"],\n",
    "       \"Outliers_PM2.5\": res[\"outliers\"].get(\"PM2.5\", 0)\n",
    "    })\n",
    "\n",
    "summary_df = pd.DataFrame(summary_data)\n",
    "print(\"Ringkasan Assessment untuk PM2.5 per stasiun:\")\n",
    "display(summary_df)\n",
    "\n",
    "# Visualisasi sederhana: Missing values & Outlier PM2.5 per stasiun\n",
    "plt.figure(figsize=(10, 6))\n",
    "plt.bar(summary_df[\"Station\"], summary_df[\"Missing_PM2.5\"], color=\"skyblue\")\n",
    "plt.xlabel(\"Stasiun\")\n",
    "plt.ylabel(\"Jumlah Missing PM2.5\")\n",
    "plt.title(\"Missing PM2.5 per Stasiun\")\n",
    "plt.xticks(rotation=45)\n",
    "plt.tight_layout()\n",
    "plt.show()\n",
    "\n",
    "plt.figure(figsize=(10, 6))\n",
    "plt.bar(summary_df[\"Station\"], summary_df[\"Outliers_PM2.5\"], color=\"salmon\")\n",
    "plt.xlabel(\"Stasiun\")\n",
    "plt.ylabel(\"Jumlah Outlier PM2.5\")\n",
    "plt.title(\"Outlier PM2.5 per Stasiun\")\n",
    "plt.xticks(rotation=45)\n",
    "plt.tight_layout()\n",
    "plt.show()\n"
   ]
  },
  {
   "cell_type": "markdown",
   "metadata": {
    "id": "7dtxhAPrkhPL"
   },
   "source": [
    "**Insight:**\n",
    "- Semua file memiliki jumlah baris dan kolom yang sama (35.064 baris dan 18 kolom), yang menunjukkan bahwa data dikumpulkan dalam periode dan struktur yang konsisten antar stasiun.\n",
    "- Jumlah nilai hilang pada kolom, terutama untuk PM2.5, bervariasi antar stasiun. Misalnya, ada stasiun yang memiliki missing value PM2.5 yang tinggi (seperti Shunyi dengan 913 nilai hilang) dibandingkan dengan stasiun lain (misalnya Wanliu dengan 382 nilai hilang). Ini mengindikasikan adanya variasi dalam kualitas pengumpulan data atau masalah pencatatan di masing-masing lokasi.\n",
    "- Tidak ditemukan baris duplikat dan invalid pada data.\n",
    "- Deteksi outlier menggunakan metode IQR menunjukkan adanya jumlah pencilan yang cukup tinggi pada kolom PM2.5 (misalnya 1626 outlier di Huairou)."
   ]
  },
  {
   "cell_type": "markdown",
   "metadata": {
    "id": "EhN5R4hr8DC1"
   },
   "source": [
    "### Cleaning Data"
   ]
  },
  {
   "cell_type": "code",
   "execution_count": null,
   "metadata": {
    "id": "jVnYpprE9Evz"
   },
   "outputs": [],
   "source": [
    "def impute_outliers(s, lower_quantile=0.25, upper_quantile=0.75, k=1.5):\n",
    "    Q1 = s.quantile(lower_quantile)\n",
    "    Q3 = s.quantile(upper_quantile)\n",
    "    IQR = Q3 - Q1\n",
    "    lower_bound = Q1 - k * IQR\n",
    "    upper_bound = Q3 + k * IQR\n",
    "    median_val = s.median()\n",
    "    \n",
    "    s_imputed = s.copy()\n",
    "    s_imputed[s < lower_bound] = median_val\n",
    "    s_imputed[s > upper_bound] = median_val\n",
    "    return s_imputed\n",
    "\n",
    "# Proses cleaning dan imputasi untuk setiap stasiun\n",
    "cleaned_dataframes = {}\n",
    "stats_summary = []\n",
    "\n",
    "for station, df in station_dataframes.items():\n",
    "    # Gabungkan kolom tanggal menjadi kolom datetime\n",
    "    df['datetime'] = pd.to_datetime(df[['year', 'month', 'day', 'hour']])\n",
    "    df.drop(['year', 'month', 'day', 'hour'], axis=1, inplace=True)\n",
    "    # Pindahkan kolom datetime ke posisi kedua\n",
    "    datetime_col = df.pop('datetime')\n",
    "    df.insert(1, 'datetime', datetime_col)\n",
    "    \n",
    "    # Pastikan PM2.5 dalam bentuk numerik\n",
    "    df['PM2.5'] = pd.to_numeric(df['PM2.5'], errors='coerce')\n",
    "    \n",
    "    # Imputasi missing value dengan interpolasi linier\n",
    "    df.sort_values('datetime', inplace=True)\n",
    "    df['PM2.5_clean'] = df['PM2.5'].interpolate(method='linear')\n",
    "    \n",
    "    # Imputasi outlier di PM2.5_clean dengan median\n",
    "    df['PM2.5_imputed'] = impute_outliers(df['PM2.5_clean'])\n",
    "    \n",
    "    cleaned_dataframes[station] = df\n",
    "    \n",
    "    # Statistik ringkasan\n",
    "    original_stats = df['PM2.5'].describe()\n",
    "    clean_stats = df['PM2.5_clean'].describe()\n",
    "    imputed_stats = df['PM2.5_imputed'].describe()\n",
    "    \n",
    "    stats_summary.append({\n",
    "        \"Station\": station,\n",
    "        \"Original_Mean\": original_stats.get('mean', np.nan),\n",
    "        \"Original_Median\": original_stats.get('50%', np.nan),\n",
    "        \"Clean_Mean\": clean_stats.get('mean', np.nan),\n",
    "        \"Clean_Median\": clean_stats.get('50%', np.nan),\n",
    "        \"Imputed_Mean\": imputed_stats.get('mean', np.nan),\n",
    "        \"Imputed_Median\": imputed_stats.get('50%', np.nan)\n",
    "    })\n",
    "\n",
    "stats_df = pd.DataFrame(stats_summary)\n",
    "print(\"Summary Statistik PM2.5 per Stasiun:\")\n",
    "display(stats_df)\n"
   ]
  },
  {
   "cell_type": "markdown",
   "metadata": {
    "id": "Q_5ejIqckiSP"
   },
   "source": [
    "**Insight:**\n",
    "- Dengan menggabungkan kolom tanggal (year, month, day, hour) menjadi satu kolom datetime dan mengurutkan data berdasarkan waktu, kita mendapatkan deret waktu yang lebih konsisten. Hal ini memudahkan analisis tren PM2.5 secara time series.\n",
    "- Penggunaan interpolasi linier untuk mengisi missing data membuat data PM2.5 menjadi lebih kontinu. Jika missing data tidak diisi, bisa terjadi celah yang mengganggu analisis tren. Dengan imputasi, distribusi data menjadi lebih lengkap.\n",
    "- Dari statistik awal, nilai rata-rata (mean) PM2.5 cenderung lebih tinggi karena adanya nilai ekstrim. Setelah dilakukan imputasi outlier dengan mengganti nilai ekstrim menggunakan median, nilai mean menurun secara signifikan, sedangkan median tetap stabil. Ini menunjukkan bahwa outlier sebelumnya memberikan bias pada perhitungan rata-rata.\n",
    "- Setelah proses cleaning, data PM2.5 menjadi lebih homogen dan siap untuk analisis tren serta perbandingan kualitas udara antar stasiun. Data yang sudah dibersihkan memberikan dasar yang lebih solid untuk menjawab pertanyaan bisnis, misalnya apakah terdapat tren penurunan atau kenaikan konsentrasi PM2.5 dan perbedaan antar stasiun.\n",
    "\n"
   ]
  },
  {
   "cell_type": "markdown",
   "metadata": {
    "id": "gp-Y6wU38DC1"
   },
   "source": [
    "## Exploratory Data Analysis (EDA)"
   ]
  },
  {
   "cell_type": "markdown",
   "metadata": {
    "id": "MW7WF2kr8DC1"
   },
   "source": [
    "### Explore ..."
   ]
  },
  {
   "cell_type": "code",
   "execution_count": null,
   "metadata": {
    "id": "e9CQCZjk8DC2"
   },
   "outputs": [],
   "source": [
    "# --- EDA: Eksplorasi Data Umum ---\n",
    "\n",
    "# 1. Tampilkan contoh data (misalnya 5 baris) dari setiap stasiun\n",
    "print(\"Contoh data (5 baris) dari setiap stasiun setelah cleaning:\")\n",
    "for station, df in cleaned_dataframes.items():\n",
    "    print(f\"\\nStasiun: {station}\")\n",
    "    display(df.head(5))\n",
    "\n",
    "# 2. Ringkasan Statistik PM2.5 (Imputed) untuk semua stasiun\n",
    "global_summary = []\n",
    "for station, df in cleaned_dataframes.items():\n",
    "    stats = df['PM2.5_imputed'].describe()\n",
    "    stats['Station'] = station\n",
    "    global_summary.append(stats)\n",
    "summary_df2 = pd.DataFrame(global_summary)\n",
    "print(\"Ringkasan Statistik PM2.5 (Imputed) per stasiun:\")\n",
    "display(summary_df2)\n",
    "\n",
    "# 3. Agregasi Bulanan: Hitung rata-rata, nilai minimum, maksimum, dan std PM2.5 per stasiun per bulan\n",
    "agg_list = []\n",
    "for station, df in cleaned_dataframes.items():\n",
    "    df['month'] = df['datetime'].dt.month\n",
    "    monthly_summary = df.groupby('month')['PM2.5_imputed'].agg(['mean', 'min', 'max', 'std']).reset_index()\n",
    "    monthly_summary['Station'] = station\n",
    "    agg_list.append(monthly_summary)\n",
    "agg_all = pd.concat(agg_list)\n",
    "print(\"Agregasi Bulanan PM2.5 (Imputed) untuk semua stasiun:\")\n",
    "display(agg_all)\n",
    "\n",
    "# 4. Visualisasi garis: Tren bulanan PM2.5 untuk setiap stasiun\n",
    "pivot_monthly = agg_all.pivot(index='month', columns='Station', values='mean')\n",
    "plt.figure(figsize=(10,6))\n",
    "for station in pivot_monthly.columns:\n",
    "    plt.plot(pivot_monthly.index, pivot_monthly[station], marker='o', label=station)\n",
    "plt.xlabel(\"Bulan\")\n",
    "plt.ylabel(\"Rata-rata PM2.5 (Imputed)\")\n",
    "plt.title(\"Tren Bulanan Rata-rata PM2.5 per Stasiun\")\n",
    "plt.legend(bbox_to_anchor=(1.05, 1), loc='upper left')\n",
    "plt.tight_layout()\n",
    "plt.show()\n"
   ]
  },
  {
   "cell_type": "markdown",
   "metadata": {
    "id": "th_Lzl2Fkj9O"
   },
   "source": [
    "**Insight**\n",
    "\n",
    "- **Tampilan Data Awal & Statistik Deskriptif:**  \n",
    "  - Tampilan 5 baris pertama dari setiap stasiun memberikan gambaran awal mengenai struktur data yang konsisten setelah dilakukan cleaning.  \n",
    "  - Ringkasan statistik untuk PM2.5 (setelah imputasi) menunjukkan perbedaan signifikan antar stasiun. Misalnya, jika nilai rata-rata jauh lebih tinggi dibandingkan dengan median, hal ini mengindikasikan adanya outlier ekstrim yang perlu mendapat perhatian lebih.\n",
    "\n",
    "- **Agregasi Bulanan & Pola Musiman:**  \n",
    "  - Proses agregasi bulanan (menghitung rata-rata, nilai minimum, maksimum, dan standar deviasi) mengungkap pola musiman yang kuat.  \n",
    "  - Hasil agregasi menunjukkan bahwa sebagian besar stasiun mengalami peningkatan konsentrasi PM2.5 pada bulan-bulan tertentu (misalnya, musim dingin atau periode transisi) dan penurunan pada bulan dengan kondisi cuaca yang mendukung pengenceran polutan.\n",
    "\n",
    "- **Visualisasi Tren Bulanan:**  \n",
    "  - Plot garis tren bulanan rata-rata PM2.5 memberikan gambaran visual tentang fluktuasi dan perbedaan level antar stasiun.  \n",
    "  - Meskipun pola naik-turun (trend) cenderung serupa, perbedaan nilai puncak dan dasar antara stasiun menandakan adanya faktor lokal (seperti kepadatan lalu lintas atau aktivitas industri) yang memengaruhi kualitas udara.\n",
    "\n",
    "- **Validasi Konsistensi Data:**  \n",
    "  - Gabungan tampilan data, statistik deskriptif, dan agregasi membantu memastikan bahwa data telah di-cleaning dengan baik dan siap untuk analisis lebih lanjut.  \n",
    "  - Data agregasi yang disusun mendukung identifikasi pola yang mendalam, memberikan dasar yang kuat untuk visualisasi lanjutan serta interpretasi terkait pertanyaan bisnis."
   ]
  },
  {
   "cell_type": "markdown",
   "metadata": {
    "id": "zsyZjqak8DC2"
   },
   "source": [
    "## Visualization & Explanatory Analysis"
   ]
  },
  {
   "cell_type": "markdown",
   "metadata": {
    "id": "HZxOiQ6n8DC2"
   },
   "source": [
    "### Pertanyaan 1:"
   ]
  },
  {
   "cell_type": "code",
   "execution_count": null,
   "metadata": {
    "id": "1swJUdAD8DC2"
   },
   "outputs": [],
   "source": [
    "# --- Pertanyaan 1: Tren Perubahan Konsentrasi PM2.5 ---\n",
    "\n",
    "# Visualisasi: Plot garis tren bulanan rata-rata PM2.5 untuk setiap stasiun\n",
    "plt.figure(figsize=(10,6))\n",
    "for station in pivot_monthly.columns:\n",
    "    plt.plot(pivot_monthly.index, pivot_monthly[station], marker='o', label=station)\n",
    "plt.xlabel(\"Bulan\")\n",
    "plt.ylabel(\"Rata-rata PM2.5 (Imputed)\")\n",
    "plt.title(\"Tren Bulanan Rata-rata PM2.5 per Stasiun\")\n",
    "plt.legend(bbox_to_anchor=(1.05, 1), loc='upper left')\n",
    "plt.tight_layout()\n",
    "plt.show()\n",
    "\n",
    "# Catatan: Tabel 'agg_all' merupakan hasil agregasi yang dapat dijadikan dasar analisa tren.\n"
   ]
  },
  {
   "cell_type": "markdown",
   "metadata": {},
   "source": [
    "**Insight**\n",
    "\n",
    "- **Pola Musiman yang Konsisten:**  \n",
    "  Grafik tren bulanan menunjukkan bahwa hampir semua stasiun mengalami kenaikan konsentrasi PM2.5 pada bulan-bulan tertentu—misalnya, menjelang akhir tahun atau awal tahun berikutnya—dan penurunan pada bulan-bulan pertengahan tahun. Pola ini dapat dikaitkan dengan faktor musiman seperti perubahan suhu, kelembapan, dan curah hujan.\n",
    "\n",
    "- **Perbedaan Level Antar Stasiun:**  \n",
    "  Meskipun pola fluktuasi (naik-turun) cenderung serupa di antara stasiun, terdapat perbedaan signifikan dalam nilai puncak dan dasar. Sebagai contoh, stasiun *Aotizhongxin* mungkin secara konsisten menunjukkan level PM2.5 yang lebih tinggi dibandingkan stasiun seperti *Changping*, yang mencerminkan perbedaan kondisi lokal seperti volume lalu lintas atau aktivitas industri.\n",
    "\n",
    "- **Amplitudo Fluktuasi:**  \n",
    "  Rentang perbedaan antara nilai tertinggi dan terendah (amplitudo) berbeda-beda antar stasiun. Stasiun dengan amplitudo fluktuasi yang besar menunjukkan perubahan kualitas udara yang ekstrem antara musim “bersih” dan “kotor,” yang bisa disebabkan oleh kondisi geografis (misalnya, adanya lembah) atau intensitas aktivitas tertentu.\n",
    "\n",
    "- **Indikasi Periode Kritis:**  \n",
    "  Bulan-bulan dengan konsentrasi PM2.5 tertinggi dapat diidentifikasi sebagai periode kritis di setiap stasiun. Informasi ini berguna untuk menentukan waktu-waktu ketika intervensi, seperti pembatasan lalu lintas atau peningkatan pengawasan emisi, harus difokuskan.\n",
    "\n",
    "- **Dasar Kebijakan dan Perencanaan:**  \n",
    "  Tren bulanan yang terlihat dalam grafik memberikan dasar yang kuat bagi pembuat kebijakan untuk merancang strategi mitigasi polusi udara yang tepat, dengan menyesuaikan intervensi berdasarkan periode dengan konsentrasi polutan yang tinggi.\n"
   ]
  },
  {
   "cell_type": "markdown",
   "metadata": {
    "id": "DgHI7CiU8DC2"
   },
   "source": [
    "### Pertanyaan 2:"
   ]
  },
  {
   "cell_type": "code",
   "execution_count": null,
   "metadata": {
    "id": "Go0lCsvO8DC2"
   },
   "outputs": [],
   "source": [
    "# --- Pertanyaan 2: Faktor Lingkungan & Perbedaan Kualitas Udara Antar Stasiun ---\n",
    "\n",
    "# 1. Boxplot perbandingan distribusi PM2.5 antar stasiun\n",
    "all_data = []\n",
    "for station, df in cleaned_dataframes.items():\n",
    "    temp_df = df[['datetime', 'PM2.5_imputed']].copy()\n",
    "    temp_df['Station'] = station\n",
    "    all_data.append(temp_df)\n",
    "all_data_df = pd.concat(all_data)\n",
    "plt.figure(figsize=(12,6))\n",
    "sns.boxplot(x='Station', y='PM2.5_imputed', data=all_data_df)\n",
    "plt.xlabel(\"Stasiun\")\n",
    "plt.ylabel(\"PM2.5 (Imputed)\")\n",
    "plt.title(\"Perbandingan Distribusi PM2.5 Antar Stasiun\")\n",
    "plt.xticks(rotation=45)\n",
    "plt.tight_layout()\n",
    "plt.show()\n",
    "\n",
    "# 2. Heatmap Korelasi: Gunakan stasiun representative (misal, stasiun pertama) untuk melihat korelasi parameter\n",
    "rep_station = list(cleaned_dataframes.keys())[0] if cleaned_dataframes else None\n",
    "if rep_station:\n",
    "    numeric_cols = [\"PM2.5_imputed\", \"PM10\", \"SO2\", \"NO2\", \"CO\", \"O3\", \"TEMP\", \"PRES\", \"DEWP\", \"RAIN\", \"WSPM\"]\n",
    "    corr_matrix = cleaned_dataframes[rep_station][numeric_cols].corr()\n",
    "    plt.figure(figsize=(10,8))\n",
    "    sns.heatmap(corr_matrix, annot=True, cmap=\"coolwarm\", fmt=\".2f\")\n",
    "    plt.title(f\"Matriks Korelasi - {rep_station}\")\n",
    "    plt.tight_layout()\n",
    "    plt.show()\n",
    "else:\n",
    "    print(\"Tidak ada stasiun untuk analisa korelasi.\")\n"
   ]
  },
  {
   "cell_type": "markdown",
   "metadata": {
    "id": "_0-36BDLklRg"
   },
   "source": [
    "**Insight**\n",
    "\n",
    "- **Boxplot Perbandingan PM2.5:**\n",
    "  - **Perbedaan Median dan Rentang:**  \n",
    "    Boxplot menunjukkan bahwa beberapa stasiun memiliki median PM2.5 yang lebih tinggi dibandingkan stasiun lainnya. Misalnya, stasiun *Gucheng* dan *Nongzhanguan* tampak memiliki nilai median yang relatif tinggi, sedangkan stasiun seperti *Changping* atau *Wanliu* cenderung lebih rendah.\n",
    "  - **Outlier Ekstrem:**  \n",
    "    Hampir semua stasiun menunjukkan adanya outlier dengan nilai sangat tinggi (misalnya, di atas 200 µg/m³). Hal ini menandakan bahwa terdapat episode polusi ekstrem yang terjadi secara sporadis, terutama di stasiun seperti *Huairou*, *Gucheng*, dan *Wanshouxigong*.\n",
    "  - **Variasi Antar Stasiun:**  \n",
    "    Perbedaan rentang nilai antar stasiun mengindikasikan bahwa faktor lokal—misalnya, aktivitas industri, kepadatan lalu lintas, atau kondisi geografis—berperan penting dalam menentukan kualitas udara di masing-masing lokasi.\n",
    "\n",
    "- **Matriks Korelasi di Stasiun Aotizhongxin:**\n",
    "  - **Korelasi dengan Parameter Polusi Lain (PM10, NO2, CO):**  \n",
    "    PM2.5 menunjukkan korelasi positif yang cukup kuat dengan PM10, NO2, dan CO, menandakan bahwa sumber emisi yang menghasilkan partikel halus juga cenderung menghasilkan polutan lain dari aktivitas pembakaran, seperti kendaraan bermotor atau industri.\n",
    "  - **Korelasi Negatif dengan Parameter Meteorologi (TEMP, WSPM, RAIN):**  \n",
    "    Terdapat korelasi negatif antara PM2.5 dengan suhu, kecepatan angin, dan curah hujan. Kondisi cuaca seperti hujan dan angin kencang membantu menurunkan konsentrasi polutan dengan mempercepat proses pembersihan udara.\n",
    "  - **Korelasi Negatif dengan O3:**  \n",
    "    O3 (ozon) cenderung memiliki hubungan berlawanan dengan PM2.5 karena proses pembentukan dan penguraiannya berbeda. Kondisi atmosfer yang mendukung pembentukan ozon (misalnya, cerah dan minim partikel) biasanya tidak mendukung akumulasi PM2.5."
   ]
  },
  {
   "cell_type": "markdown",
   "metadata": {
    "id": "9y4VUsmcYNZ5"
   },
   "source": [
    "## Analisis Lanjutan (Opsional)"
   ]
  },
  {
   "cell_type": "code",
   "execution_count": null,
   "metadata": {
    "id": "iWhnzsJGYUCO"
   },
   "outputs": [],
   "source": []
  },
  {
   "cell_type": "markdown",
   "metadata": {},
   "source": [
    "# Conclusion"
   ]
  },
  {
   "cell_type": "markdown",
   "metadata": {
    "id": "_WeHlCeX8DC2"
   },
   "source": [
    "1. **Variabilitas Kualitas Udara Antar Stasiun:**\n",
    "   - **Perbedaan Statistik:**  \n",
    "     Data deskriptif menunjukkan bahwa nilai rata-rata (mean) dan median PM2.5 bervariasi signifikan antar stasiun. Misalnya, beberapa stasiun menunjukkan rata-rata mendekati 150 µg/m³ dengan median yang jauh lebih rendah, mengindikasikan adanya outlier ekstrim. Sebaliknya, stasiun dengan nilai median lebih rendah (misalnya sekitar 70–80 µg/m³) menunjukkan distribusi yang lebih stabil. Variabilitas ini menunjukkan perbedaan mendasar dalam kondisi lingkungan dan potensi sumber polusi lokal.\n",
    "     \n",
    "2. **Pola Musiman dan Fluktuasi Konsentrasi:**\n",
    "   - **Agregasi Bulanan:**  \n",
    "     Hasil agregasi bulanan mengungkapkan pola musiman yang konsisten. Hampir semua stasiun menunjukkan kenaikan konsentrasi PM2.5 pada bulan-bulan tertentu—misalnya, puncak polusi di musim dingin atau periode transisi—yang kemudian diikuti oleh penurunan pada bulan-bulan dengan kondisi meteorologi lebih menguntungkan. Fluktuasi ekstrem (amplitudo besar antara nilai tertinggi dan terendah) menunjukkan adanya periode kritis yang memerlukan perhatian khusus.\n",
    "     \n",
    "3. **Hubungan Antar Parameter Polusi dan Pengaruh Faktor Meteorologi:**\n",
    "   - **Korelasi Positif dan Negatif:**  \n",
    "     Matriks korelasi, terutama pada stasiun perwakilan, mengungkapkan korelasi positif yang kuat antara PM2.5 dengan PM10, NO2, dan CO. Hal ini menunjukkan bahwa sumber polusi, seperti aktivitas transportasi dan industri, cenderung menghasilkan berbagai jenis polutan secara simultan. Di sisi lain, korelasi negatif dengan parameter meteorologi (suhu, kecepatan angin, curah hujan) menegaskan bahwa kondisi cuaca yang lebih baik dapat membantu mengurangi konsentrasi polutan di udara.\n",
    "     \n",
    "4. **Implikasi untuk Kebijakan dan Intervensi:**\n",
    "   - **Identifikasi Periode Kritis:**  \n",
    "     Dengan mengenali bulan-bulan di mana konsentrasi PM2.5 mencapai puncak, data ini dapat menjadi dasar penjadwalan intervensi, seperti pembatasan lalu lintas atau peningkatan pengawasan emisi, terutama di stasiun yang menunjukkan fluktuasi ekstrem.\n",
    "   - **Pendekatan Lokal:**  \n",
    "     Perbedaan yang signifikan antar stasiun mengindikasikan bahwa strategi pengendalian polusi perlu disesuaikan dengan kondisi lokal. Stasiun yang memiliki median dan rentang yang lebih tinggi harus mendapatkan fokus lebih dalam hal mitigasi, sedangkan stasiun dengan variabilitas rendah mungkin memerlukan pendekatan yang berbeda.\n",
    "     \n",
    "**Rekomendasi:**\n",
    "- **Pengawasan Intensif pada Periode Puncak:**  \n",
    "  Lakukan pengawasan dan intervensi lebih intensif pada bulan-bulan dengan konsentrasi tertinggi, berdasarkan pola musiman yang telah teridentifikasi.\n",
    "- **Studi Lanjutan di Lokasi dengan Variabilitas Tinggi:**  \n",
    "  Lakukan analisis mendalam di stasiun dengan outlier ekstrim dan amplitudo fluktuasi yang besar untuk mengidentifikasi sumber polusi spesifik, sehingga intervensi dapat lebih terfokus.\n",
    "- **Integrasi Data Meteorologi:**  \n",
    "  Menerapkan sistem peringatan dini yang mengintegrasikan parameter meteorologi untuk memprediksi dan merespons potensi lonjakan polusi secara lebih efektif.\n",
    "- **Kebijakan Pengendalian Emisi:**  \n",
    "  Sesuaikan kebijakan pengendalian emisi berdasarkan karakteristik lokal, dengan mempertimbangkan kombinasi faktor polusi dan kondisi cuaca yang berpengaruh.\n"
   ]
  }
 ],
 "metadata": {
  "colab": {
   "provenance": []
  },
  "kernelspec": {
   "display_name": "base",
   "language": "python",
   "name": "python3"
  },
  "language_info": {
   "codemirror_mode": {
    "name": "ipython",
    "version": 3
   },
   "file_extension": ".py",
   "mimetype": "text/x-python",
   "name": "python",
   "nbconvert_exporter": "python",
   "pygments_lexer": "ipython3",
   "version": "3.12.7"
  }
 },
 "nbformat": 4,
 "nbformat_minor": 0
}
